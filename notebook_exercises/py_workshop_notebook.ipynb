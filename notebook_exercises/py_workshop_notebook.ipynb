{
 "cells": [
  {
   "cell_type": "markdown",
   "metadata": {},
   "source": [
    "# Practical Python Tools for Metadata Assessment: 55-minute workshop"
   ]
  },
  {
   "cell_type": "markdown",
   "metadata": {},
   "source": [
    "## Welcome\n",
    "\n",
    "Welcome to the workshop! This is meant to be a fun and beginner-friendly introduction to a few useful Python tools, in the context of working with digital collections metadata.\n",
    "\n",
    "In this session, we will focus on some basic functions of Python's pandas data analysis library, which is especially useful for tabular metadata. We will use pandas for exploring, filtering, reshaping, and merging datasets. \n",
    "\n",
    "This notebook provides:\n",
    "* code that you can execute to see results and generate outputs, directly in the notebook\n",
    "* explanations of the code examples\n",
    "* exercises that we will work through together\n",
    "\n",
    "The workshop will be very quick! We will not be able to get through everything. So, this notebook also includes: \n",
    "* a bonus example about working with dates\n",
    "* a list of recommended resources for further exploration on your own. \n"
   ]
  },
  {
   "cell_type": "markdown",
   "metadata": {},
   "source": [
    "### Table of Contents\n",
    "\n",
    "* [Workshop Plan](#wplan)\n",
    "* [Using the Jupyter Notebook](#usingjn)\n",
    "    * [Exercise 1: Run Code Cells](#ex1)\n",
    "    * [Exercise 2: Add New Code](#ex2)\n",
    "    * [More Jupyter Notebook Exercises](#mjn)\n",
    "* [Python/pandas Examples with Collections Metadata](#ppe)\n",
    "    * [Metadata Example 1: Explore a dataset](#md1)\n",
    "        * [Exercise 3: Troubleshoot a Datatype Issue](#ex3)\n",
    "    * [Metadata Example 2: Compare a group of metadata files](#md2)\n",
    "        * [Exercise 4: Evaluate Values in a Subjects field](#ex4)\n",
    "    * [Metadata Example 3: Merge information from separate files](#md3)\n",
    "        * [Exercise 5: Other ways to merge](#ex5)\n",
    "    * [Bonus Example: Working with Dates](#md4)\n",
    "* [Resources](#res)\n"
   ]
  },
  {
   "cell_type": "markdown",
   "metadata": {},
   "source": [
    "## Workshop Plan <a name=\"wplan\"></a>\n",
    "\n",
    "We will start with a quick demo in using the jupyter notebook for running code cells and adding code to cells.\n",
    "\n",
    "Then we will walk through three examples of using Python/pandas with digital collections metadata files.  \n",
    "\n",
    "After each example there will be an exercise so you can try out working with the collections data.     \n",
    "\n",
    "\n",
    "----\n",
    "  \n",
    "**Intro, & using the jupyter notebook (10 mins)**\n",
    "    * Exercises 1 & 2: how to run code cells, how to add new code into cells \n",
    "    \n",
    "**Example 1: Explore a dataset (12 mins)** \n",
    "    * Exercise 3: Troubleshoot a Datatype Issue\n",
    "    \n",
    "**Example 2: Compare a group of metadata files (12 mins)**\n",
    "    * Exercise 4: Evaluate Values in a Subject field\n",
    "    \n",
    "**Example 3: Merge info from separate files (12 mins)**\n",
    "    * Exercise 5 : Other Ways to Merge\n",
    "    \n",
    "**Wrap-up (5 mins)**\n",
    "    * Review resources, and suggestions about installing python\n",
    "\n",
    "----\n"
   ]
  },
  {
   "cell_type": "markdown",
   "metadata": {},
   "source": [
    "# Using the Jupyter Notebook <a name=\"usingjn\"></a>\n",
    "\n",
    "## What is a Jupyter Notebook? What is Binder?\n",
    "\n",
    "[Jupyter Notebook](https://jupyter-notebook.readthedocs.io/en/stable/) is a web application for creating and sharing interactive documents -- they combine live code with rich explanatory text. \n",
    "Jupyter notebooks can include helpful formatting such as plots, mathematical equations, and other rich media.  \n",
    "\n",
    "[The Binder Project](https://mybinder.readthedocs.io/en/latest/introduction.html) provides software and computing environments for online sharing of interactive projects, such as Jupyter Notebooks. \n",
    "\n",
    "## How to Use this Notebook \n",
    "You can edit this notebook directly:\n",
    "* run code cells and generate output \n",
    "* add new code and explanatory text \n",
    "\n",
    "In this section we'll go through basic jupyter notebook commands to get familiar with working in the notebook.  \n",
    "\n",
    "All paths in the notebook refer to locations within this project folder, so you can access example data and/or save output files within this project. \n"
   ]
  },
  {
   "cell_type": "markdown",
   "metadata": {},
   "source": [
    "### Exercise 1: Run code cells <a name=\"ex1\"></a>\n",
    "\n",
    "Practice running Python code in the notebook. "
   ]
  },
  {
   "cell_type": "markdown",
   "metadata": {},
   "source": [
    "#### Identify Code Cells and Markdown Cells\n",
    "\n",
    "All content in this notebook is located within individual cells, which you can identify by clicking on them. Clicking on a cell causes its borders to appear. \n",
    "\n",
    "Jupyter notebooks have two kinds of cells:   \n",
    "\n",
    "1. **Code cells:** contain code that can be executed within the notebook. Code cells have an `In [ ]:` to the left of the cell. \n",
    "\n",
    "2. **Markdown cells:** contain text providing explanation and context, usually about the code cells.\n",
    "    * Markdown is a simple markup language for writing for the web. \n",
    "    * More information about Markdown at [Markdown Guide.org](https://www.markdownguide.org/getting-started/) \n",
    "    \n",
    "Click on the Code and Markdown cells below to see the cell borders and identify what kind of cells they are. "
   ]
  },
  {
   "cell_type": "markdown",
   "metadata": {},
   "source": [
    "#### 1. example code cell :"
   ]
  },
  {
   "cell_type": "code",
   "execution_count": 3,
   "metadata": {},
   "outputs": [
    {
     "name": "stdout",
     "output_type": "stream",
     "text": [
      "here's an example code cell.\n"
     ]
    }
   ],
   "source": [
    "## hashtags in a code cell indicate a comment -- informational text for a human to read, not to be executed as code\n",
    "\n",
    "print(\"here's an example code cell.\")"
   ]
  },
  {
   "cell_type": "markdown",
   "metadata": {},
   "source": [
    "#### 2. example markdown cell:  \n",
    "\n",
    "this cell only has markdown-formatted text. No code here! "
   ]
  },
  {
   "cell_type": "markdown",
   "metadata": {},
   "source": [
    "#### How to Run a Code Cell\n",
    "\n",
    "To identify a code cell, click on the cell. You'll see the cell border appear. \n",
    "\n",
    "To run the code in the cell, press `CTRL` + `Enter`.\n",
    "\n",
    "While the code runs, you'll see an `*` in the `In [ ]:` to the left of the cell. \n",
    "\n",
    "When the code completes, an integer will appear in the `In [ ]:` to the left of the cell.   \n",
    "\n",
    "If the code produced output, the output will appear underneath the code cell.   "
   ]
  },
  {
   "cell_type": "markdown",
   "metadata": {},
   "source": [
    "#### Try running this code cell:"
   ]
  },
  {
   "cell_type": "code",
   "execution_count": 4,
   "metadata": {},
   "outputs": [
    {
     "name": "stdout",
     "output_type": "stream",
     "text": [
      "Press CTRL + ENTER to run a code cell. If the code produces output, it will appear below the cell.\n"
     ]
    }
   ],
   "source": [
    "# example code cell demonstrating print output \n",
    "\n",
    "print(\"Press CTRL + ENTER to run a code cell. If the code produces output, it will appear below the cell.\")"
   ]
  },
  {
   "cell_type": "markdown",
   "metadata": {},
   "source": [
    "#### More example code cells to run \n",
    "\n",
    "Feel free to run as many of the below examples as you'd like, to get familiar with running code cells. "
   ]
  },
  {
   "cell_type": "code",
   "execution_count": 5,
   "metadata": {},
   "outputs": [
    {
     "data": {
      "text/plain": [
       "10"
      ]
     },
     "execution_count": 5,
     "metadata": {},
     "output_type": "execute_result"
    }
   ],
   "source": [
    "# use python for arithmetic\n",
    "\n",
    "5 + 5"
   ]
  },
  {
   "cell_type": "code",
   "execution_count": 6,
   "metadata": {},
   "outputs": [
    {
     "data": {
      "text/plain": [
       "37"
      ]
     },
     "execution_count": 6,
     "metadata": {},
     "output_type": "execute_result"
    }
   ],
   "source": [
    "# python len() function counts length of a string\n",
    "\n",
    "len(\"how many characters in this sentence?\")"
   ]
  },
  {
   "cell_type": "code",
   "execution_count": 7,
   "metadata": {},
   "outputs": [
    {
     "data": {
      "text/plain": [
       "98"
      ]
     },
     "execution_count": 7,
     "metadata": {},
     "output_type": "execute_result"
    }
   ],
   "source": [
    "# max function returns the largest item in an iterable \n",
    "\n",
    "list = [2, 75, 8, 98, 12, 97, 42, 3, 11]\n",
    "max(list)"
   ]
  },
  {
   "cell_type": "markdown",
   "metadata": {},
   "source": [
    "### Exercise 2: Add New Code to Cells <a name=\"ex2\"></a>\n",
    "\n",
    "For the Python exercises in this notebook, you'll have the chance to try out ideas by adding new code into cells.  \n",
    "\n",
    "This exercise walks through how to add code into a cell. "
   ]
  },
  {
   "cell_type": "markdown",
   "metadata": {},
   "source": [
    "#### Switch Code Cells between Edit Mode and Command Mode \n",
    "\n",
    "All cells in the notebook have two functional modes: \n",
    "* **Command mode:** used for navigating and moving cells = Blue cell border    \n",
    "* **Edit mode:** used for adding/editing content in cells = Green cell border\n",
    "\n",
    "To put a cell into Edit Mode or Command mode, click on the cell. \n",
    "\n",
    "Clicking once on a Code cell puts it in Edit mode. You can tell the cell is in Edit mode because the cell border turns green. \n",
    "\n",
    "From Edit mode, to switch the Code cell into Command mode (blue border), press the `Esc` key.\n",
    "\n",
    "To try this click on the example Code cell below. The border should turn green = Edit mode.  \n",
    "\n",
    "To switch the cell back to Command mode, press the `Esc` key. The cell border will switch back to Blue = Command mode. \n",
    "\n",
    "**NOTE:** If you are not able to see Blue and Green, look for a cursor in the cell. If a cell is in Edit mode, you will see your cursor blinking in the cell. If there is no cursor blinking in the cell, it is in Command mode. \n",
    "\n",
    "Try switching the code cell below back and forth between Edit mode (green) and Command mode (blue) a few times to get used to how this works. \n"
   ]
  },
  {
   "cell_type": "markdown",
   "metadata": {},
   "source": [
    "#### example code cell:"
   ]
  },
  {
   "cell_type": "code",
   "execution_count": 8,
   "metadata": {},
   "outputs": [
    {
     "name": "stdout",
     "output_type": "stream",
     "text": [
      "Toggle a code cell between Edit and Command modes using Esc and Enter keys.\n"
     ]
    }
   ],
   "source": [
    "# more example code\n",
    "\n",
    "print(\"Toggle a code cell between Edit and Command modes using Esc and Enter keys.\")"
   ]
  },
  {
   "cell_type": "markdown",
   "metadata": {},
   "source": [
    "#### Type or paste code into an existing cell\n",
    "\n",
    "In the exercises in this notebook, there are empty code cells available to try out solutions. You can paste example code provided, or type your own. \n",
    "\n",
    "First identify that it's a code cell. Look for the `In [ ]:` to the left of the cell, to make sure it's a code cell. Then add code to the cell. \n",
    "\n",
    "To start, try out pasting this line of sample code into the empty code cell below and then running it. \n",
    "\n",
    "1. Copy the block of text below starting from the `##`, and ending with the `)`  \n",
    "2. Then click on one of the empty code cells below, make sure the cell turns green for Edit mode, and paste the copied block of code. \n",
    "3. Then press `CTRL` + `ENTER` to run the code you pasted. \n",
    "\n",
    "```\n",
    "## comment \n",
    "print(\"here's an example of new code.\")\n",
    "\n",
    "```"
   ]
  },
  {
   "cell_type": "markdown",
   "metadata": {},
   "source": [
    "#### Use the empty code cells below for the exercise"
   ]
  },
  {
   "cell_type": "code",
   "execution_count": 9,
   "metadata": {},
   "outputs": [
    {
     "name": "stdout",
     "output_type": "stream",
     "text": [
      "here's an example of new code.\n"
     ]
    }
   ],
   "source": [
    "# empty code cell\n",
    "\n",
    "## comment \n",
    "print(\"here's an example of new code.\")"
   ]
  },
  {
   "cell_type": "code",
   "execution_count": 10,
   "metadata": {},
   "outputs": [],
   "source": [
    "# empty code cell\n",
    "\n"
   ]
  },
  {
   "cell_type": "markdown",
   "metadata": {},
   "source": [
    "#### Example code cell with completed exercise"
   ]
  },
  {
   "cell_type": "code",
   "execution_count": 11,
   "metadata": {},
   "outputs": [
    {
     "name": "stdout",
     "output_type": "stream",
     "text": [
      "here's an example of new code.\n"
     ]
    }
   ],
   "source": [
    "## example of completed exercise\n",
    "\n",
    "## comment \n",
    "print(\"here's an example of new code.\")"
   ]
  },
  {
   "cell_type": "markdown",
   "metadata": {},
   "source": [
    "###  More Jupyter Notebook Exercises: 'command palette', shortcuts, creating new cells <a name=\"mjn\"></a>\n",
    "\n",
    "Learn more about notebook commands, keyboard shortcuts, and creating new cells for Markdown and code."
   ]
  },
  {
   "cell_type": "markdown",
   "metadata": {},
   "source": [
    "#### The 'command palette' has all notebook actions and shortcuts\n",
    "\n",
    "In the command palette, you can search for any command, and run that action directly from the palette, as well as seeing the shortcut for that action if available. \n",
    "\n",
    "1. Press ``P`` to show the command palette.\n",
    "    * With the palette open, search for 'edit', to find the shortcut for `enter 'edit' mode`. Click on this action from the list. This cell will then switch into 'edit' mode. "
   ]
  },
  {
   "cell_type": "markdown",
   "metadata": {},
   "source": [
    "#### Keyboard Shortcuts for Jupyter Notebook :\n",
    "\n",
    "* `P` : show 'command palette'\n",
    "* `esc` : command mode\n",
    "* `enter` : edit mode\n",
    "* `a` : insert cell above\n",
    "* `b` : insert cell below\n",
    "*  `SHIFT` + `enter`: run a code cell (or render a markdown cell)\n",
    "* `d d`: delete a cell\n"
   ]
  },
  {
   "cell_type": "markdown",
   "metadata": {},
   "source": [
    "#### Edit the text in a Markdown cell, execute (render) a Markdown cell\n",
    "\n",
    "* Switch this cell into 'edit mode' (green cell border), by double-clicking inside the cell. \n",
    "* Add a bullet point below these lines of text and type something, for example: ``'DONE'``. (You can copy/paste example below if easier!)\n",
    "* Then use `CTRL` + `Enter` to \"run\" the cell/render the markdown.  \n",
    "    * for example: `DONE`   \n",
    "\n"
   ]
  },
  {
   "cell_type": "markdown",
   "metadata": {},
   "source": [
    "#### Add new cells to notebook\n",
    "\n",
    "* With this cell in command mode (blue border), add a cell underneath it, then add some cells above the cells you added. \n",
    "    * press `b` to add a cell below an existing cell. \n",
    "    * You can keep pressing `b` to add more cells; it doesn't hurt anything to have empty cells in the notebook. \n",
    "    * press `a` to add a cell above an existing cell. "
   ]
  },
  {
   "cell_type": "markdown",
   "metadata": {},
   "source": [
    "#### Create a new Markdown cell, add some text\n",
    "\n",
    "create a Markdown cell: \n",
    "* click on one of the empty cells you created, or just create another one here. \n",
    "* A brand-new cell will be in command mode (blue cell border)  \n",
    "* if there's an `In [ ]:` to the left of the cell, this means it's a code cell. Any text you type into the cell will be treated as code. \n",
    "* To convert the cell to a Markdown cell, press `m` to switch the cell to markdown.  \n",
    "    * The `In [ ]:` to the left of the cell will disappear, indicating it is now a Markdown cell. Any test you type into the cell will now be treated as markdown. \n",
    "* If this did not work, make sure the cell is in command mode. Switch to Command mode by pressing `Esc`. The cell border will turn blue. \n",
    "\n",
    "add text in a Markdown cell: \n",
    "* Switch the cell to Edit mode by clicking inside it. \n",
    "* In the markdown cell, type a header, and then some regular text. For example: \n",
    "\n",
    "    ```\n",
    "    #### here's an example header  \n",
    "    and some regular paragraph text \n",
    "    ```"
   ]
  },
  {
   "cell_type": "markdown",
   "metadata": {},
   "source": [
    "#### use the markdown cell below for the exercise"
   ]
  },
  {
   "cell_type": "markdown",
   "metadata": {},
   "source": [
    "###(placeholder markdown cell)"
   ]
  },
  {
   "cell_type": "markdown",
   "metadata": {},
   "source": [
    "#### Execute/render a markdown cell\n",
    "\n",
    "* As you did for the code cells, press `CTRL` + `Enter` to \"run\" the markdown cell/render the markdown that you just typed.  \n",
    "* the text will display as a formatted version, and the cell border will switch from green to blue. \n",
    "\n",
    "---"
   ]
  },
  {
   "cell_type": "markdown",
   "metadata": {},
   "source": [
    "# Python/pandas examples with collections metadata files  <a name=\"ppe\"></a>"
   ]
  },
  {
   "cell_type": "markdown",
   "metadata": {},
   "source": [
    "## Metadata Example 1: Explore datasets with pandas<a name=\"md1\"></a>\n",
    "\n",
    "This example walks through getting oriented with using python/pandas for viewing and analysing descriptive metadata files.\n",
    "\n",
    "In this scenario we are working with a group of separate metadata files that have varied sets of inconsistently organized fields. We want to assess completeness of specific fields across the group as a whole. \n",
    "\n",
    "We will import metadata from csv and tsv files, figure out which fields are relevant for our assessment, and select those from the raw datasheets. \n"
   ]
  },
  {
   "cell_type": "markdown",
   "metadata": {},
   "source": [
    "### Learning objectives in this example:\n",
    "\n",
    "* read a data file into a dataframe \n",
    "* create dataframes from differently delimited data\n",
    "* assess overall size and contents of the dataframe\n",
    "* view data in the dataframe\n",
    "* filter out irrelevant data\n",
    "* select relevant columns to include \n",
    "* identify basic datatype information"
   ]
  },
  {
   "cell_type": "markdown",
   "metadata": {},
   "source": [
    "#### Step 1:  Import libraries for Python\n",
    "\n",
    "Importing libraries loads them into memory so that Python can use them. \n",
    "\n",
    "Libraries provide specific methods for particular kinds of work. \n",
    "\n",
    "We are importing: \n",
    "* the pandas data analysis library : [pandas-docs Tutorials](https://pandas.pydata.org/pandas-docs/version/0.15/tutorials.html)\n",
    "* `os` for working with files and directories : [python docs os](https://docs.python.org/3/library/os.html)\n",
    "* `matplotlib` for generating some basic graphs from data : [matplotlib Users Guide](https://matplotlib.org/users/index.html)\n",
    "\n",
    "Setting `%matplotlib inline` allows plots to render within the notebook. \n"
   ]
  },
  {
   "cell_type": "code",
   "execution_count": 12,
   "metadata": {},
   "outputs": [],
   "source": [
    "# import pandas and os libraries \n",
    "import pandas as pd\n",
    "import os\n",
    "import matplotlib.pyplot as plt\n",
    "%matplotlib inline"
   ]
  },
  {
   "cell_type": "markdown",
   "metadata": {},
   "source": [
    "#### Next: check that we are in the right place!\n",
    "\n",
    "We'll do a couple quick checks to get oriented and make sure that we're in the right directory. \n",
    "\n",
    "This is not really necessary, because this notebook is located in/running from within the 'notebook_exercises' subfolder, so we already know that we will be running commands relative to that location, but it's useful to know how to take a look around to see where you are. "
   ]
  },
  {
   "cell_type": "code",
   "execution_count": 13,
   "metadata": {},
   "outputs": [
    {
     "data": {
      "text/plain": [
       "'C:\\\\Users\\\\morganem\\\\GitHubRepos\\\\py-workshop-DLF2019\\\\notebook_exercises'"
      ]
     },
     "execution_count": 13,
     "metadata": {},
     "output_type": "execute_result"
    }
   ],
   "source": [
    "# os.getcwd() outputs the current working directory, similar to pwd in bash\n",
    "\n",
    "os.getcwd()"
   ]
  },
  {
   "cell_type": "code",
   "execution_count": 14,
   "metadata": {},
   "outputs": [
    {
     "data": {
      "text/plain": [
       "['.ipynb_checkpoints', 'exampleData', 'output', 'py_workshop_notebook.ipynb']"
      ]
     },
     "execution_count": 14,
     "metadata": {},
     "output_type": "execute_result"
    }
   ],
   "source": [
    "# os.listdir() with no parameter returns a list of the files and directories in the current working directory\n",
    "\n",
    "os.listdir()"
   ]
  },
  {
   "cell_type": "code",
   "execution_count": 15,
   "metadata": {},
   "outputs": [
    {
     "data": {
      "text/plain": [
       "['03823_access_images.csv',\n",
       " '03823_masters.csv',\n",
       " '03823_metadata.txt',\n",
       " '03883.txt',\n",
       " '60001.txt',\n",
       " 'maps.csv']"
      ]
     },
     "execution_count": 15,
     "metadata": {},
     "output_type": "execute_result"
    }
   ],
   "source": [
    "# use os.listdir() plus a parameter to see what's in the exampleData subfolder\n",
    "\n",
    "os.listdir('./exampleData/')"
   ]
  },
  {
   "cell_type": "markdown",
   "metadata": {},
   "source": [
    "#### Create a dataframe from one of the metadata sheets\n",
    "\n",
    "A dataframe is a Python object with rows and columns that can be selected for running calculations and manipulating the data in a lot of ways. \n",
    "\n",
    "You can read many different data formats into a dataframe, including csv, tsv, and even excel sheets. \n",
    "\n",
    "The command below uses the variable name 'maps' for creating a dataframe using the pandas `read_csv` function. \n",
    "\n",
    "   [pandas.read_csv](https://pandas.pydata.org/pandas-docs/stable/reference/api/pandas.read_csv.html)"
   ]
  },
  {
   "cell_type": "code",
   "execution_count": 16,
   "metadata": {},
   "outputs": [],
   "source": [
    "# create a dataframe named 'maps' from an example metadata file \n",
    "\n",
    "maps=pd.read_csv(\"./exampleData/maps.csv\")"
   ]
  },
  {
   "cell_type": "markdown",
   "metadata": {},
   "source": [
    "#### Inspect a dataframe\n",
    "\n",
    "Next, we'll explore the maps dataframe with pandas attributes and methods, to get a sense of how large this datset is (how many rows and columns), what the column headers are and how many of them are empty, and what the datatypes are in each column. \n",
    "\n",
    "* shape [pandas.DataFrame.shape](https://pandas.pydata.org/pandas-docs/stable/reference/api/pandas.DataFrame.shape.html)\n",
    "* columns [pandas.DataFrame.columns](https://pandas.pydata.org/pandas-docs/stable/reference/api/pandas.DataFrame.columns.html)\n",
    "* info() [pandas.DataFrame.info](https://pandas.pydata.org/pandas-docs/stable/reference/api/pandas.DataFrame.info.html)"
   ]
  },
  {
   "cell_type": "code",
   "execution_count": 17,
   "metadata": {},
   "outputs": [
    {
     "data": {
      "text/plain": [
       "(161, 36)"
      ]
     },
     "execution_count": 17,
     "metadata": {},
     "output_type": "execute_result"
    }
   ],
   "source": [
    "# the shape attribute displays the number of rows and columns for the dataframe, to get a sense of its overall size\n",
    "\n",
    "maps.shape"
   ]
  },
  {
   "cell_type": "code",
   "execution_count": 18,
   "metadata": {},
   "outputs": [
    {
     "data": {
      "text/plain": [
       "Index(['Title', 'Alternative Title', 'Creator', 'Contributor', 'Creation Date',\n",
       "       'Date', 'Search by Decade', 'Description', 'Subject (tgm)',\n",
       "       'Subject Topical', 'Subject Name', 'Subject Geographic', 'Title Note',\n",
       "       'DCMI Type', 'Caption', 'Contributor Note', 'Notes', 'Original Form',\n",
       "       'Resource Type', 'Geographic Location', 'Language Code', 'Language',\n",
       "       'Physical Description of Original', 'Medium of Original',\n",
       "       'Collection in Repository', 'Digital Collection', 'N.C. Ed. Standard',\n",
       "       'URL', 'Local Identifier', 'Creator Identifier', 'filename',\n",
       "       'Copyright', 'Usage Rights', 'Raw Scan Filename', 'Date created',\n",
       "       'Date modified'],\n",
       "      dtype='object')"
      ]
     },
     "execution_count": 18,
     "metadata": {},
     "output_type": "execute_result"
    }
   ],
   "source": [
    "# columns attribute displays column labels\n",
    "\n",
    "maps.columns"
   ]
  },
  {
   "cell_type": "code",
   "execution_count": 19,
   "metadata": {},
   "outputs": [
    {
     "name": "stdout",
     "output_type": "stream",
     "text": [
      "<class 'pandas.core.frame.DataFrame'>\n",
      "RangeIndex: 161 entries, 0 to 160\n",
      "Data columns (total 36 columns):\n",
      "Title                               161 non-null object\n",
      "Alternative Title                   4 non-null object\n",
      "Creator                             161 non-null object\n",
      "Contributor                         51 non-null object\n",
      "Creation Date                       161 non-null object\n",
      "Date                                161 non-null object\n",
      "Search by Decade                    161 non-null object\n",
      "Description                         161 non-null object\n",
      "Subject (tgm)                       161 non-null object\n",
      "Subject Topical                     161 non-null object\n",
      "Subject Name                        161 non-null object\n",
      "Subject Geographic                  161 non-null object\n",
      "Title Note                          161 non-null object\n",
      "DCMI Type                           161 non-null object\n",
      "Caption                             7 non-null object\n",
      "Contributor Note                    50 non-null object\n",
      "Notes                               67 non-null object\n",
      "Original Form                       161 non-null object\n",
      "Resource Type                       161 non-null object\n",
      "Geographic Location                 150 non-null object\n",
      "Language Code                       161 non-null object\n",
      "Language                            161 non-null object\n",
      "Physical Description of Original    160 non-null object\n",
      "Medium of Original                  161 non-null object\n",
      "Collection in Repository            161 non-null object\n",
      "Digital Collection                  161 non-null object\n",
      "N.C. Ed. Standard                   0 non-null float64\n",
      "URL                                 0 non-null float64\n",
      "Local Identifier                    160 non-null object\n",
      "Creator Identifier                  154 non-null object\n",
      "filename                            161 non-null object\n",
      "Copyright                           161 non-null object\n",
      "Usage Rights                        0 non-null float64\n",
      "Raw Scan Filename                   158 non-null object\n",
      "Date created                        161 non-null object\n",
      "Date modified                       161 non-null object\n",
      "dtypes: float64(3), object(33)\n",
      "memory usage: 45.4+ KB\n"
     ]
    }
   ],
   "source": [
    "# the info method displays datatypes and numbers of values per column, and memory information\n",
    "\n",
    "maps.info()"
   ]
  },
  {
   "cell_type": "markdown",
   "metadata": {},
   "source": [
    "#### Datatypes in pandas\n",
    "\n",
    "The most common data types you will likely run into, and what they're used for:  \n",
    "\n",
    "* **object** - text (strings)\n",
    "* **int64** - positive (or negative whole numbers), with no decimal point \n",
    "* **float64** - decimal numbers \n",
    "* **datetime64** - date and time values\n",
    "\n",
    "For more information on datatypes:\n",
    "* [DataCarpentry.org tutorial on Data Types and Formats](https://datacarpentry.org/python-ecology-lesson/04-data-types-and-format/)\n",
    "* [Practical Business Python: Overview of Pandas Data Types](https://pbpython.com/pandas_dtypes.html) "
   ]
  },
  {
   "cell_type": "markdown",
   "metadata": {},
   "source": [
    "#### Sorting dataframe columns\n",
    "\n",
    "Since the columns listed above are not ordered in a logical way, it's hard to look for a particular column label in the output. \n",
    "\n",
    "However, dataframes can be sorted by rows, columns, or values. \n",
    "* [pandas.DataFrame.sort_index](https://pandas.pydata.org/pandas-docs/stable/reference/api/pandas.DataFrame.sort_index.html)\n",
    "* [pandas.DataFrame.sort_values](https://pandas.pydata.org/pandas-docs/stable/reference/api/pandas.DataFrame.sort_values.html)\n",
    "\n",
    "Below we'll sort the dataframe to display the column labels alphabetically, so that it's easier to check if this collection has fields we're interested in, such as Title, Usage Rights, Date, etc. \n"
   ]
  },
  {
   "cell_type": "code",
   "execution_count": 20,
   "metadata": {},
   "outputs": [
    {
     "name": "stdout",
     "output_type": "stream",
     "text": [
      "<class 'pandas.core.frame.DataFrame'>\n",
      "RangeIndex: 161 entries, 0 to 160\n",
      "Data columns (total 36 columns):\n",
      "Alternative Title                   4 non-null object\n",
      "Caption                             7 non-null object\n",
      "Collection in Repository            161 non-null object\n",
      "Contributor                         51 non-null object\n",
      "Contributor Note                    50 non-null object\n",
      "Copyright                           161 non-null object\n",
      "Creation Date                       161 non-null object\n",
      "Creator                             161 non-null object\n",
      "Creator Identifier                  154 non-null object\n",
      "DCMI Type                           161 non-null object\n",
      "Date                                161 non-null object\n",
      "Date created                        161 non-null object\n",
      "Date modified                       161 non-null object\n",
      "Description                         161 non-null object\n",
      "Digital Collection                  161 non-null object\n",
      "Geographic Location                 150 non-null object\n",
      "Language                            161 non-null object\n",
      "Language Code                       161 non-null object\n",
      "Local Identifier                    160 non-null object\n",
      "Medium of Original                  161 non-null object\n",
      "N.C. Ed. Standard                   0 non-null float64\n",
      "Notes                               67 non-null object\n",
      "Original Form                       161 non-null object\n",
      "Physical Description of Original    160 non-null object\n",
      "Raw Scan Filename                   158 non-null object\n",
      "Resource Type                       161 non-null object\n",
      "Search by Decade                    161 non-null object\n",
      "Subject (tgm)                       161 non-null object\n",
      "Subject Geographic                  161 non-null object\n",
      "Subject Name                        161 non-null object\n",
      "Subject Topical                     161 non-null object\n",
      "Title                               161 non-null object\n",
      "Title Note                          161 non-null object\n",
      "URL                                 0 non-null float64\n",
      "Usage Rights                        0 non-null float64\n",
      "filename                            161 non-null object\n",
      "dtypes: float64(3), object(33)\n",
      "memory usage: 45.4+ KB\n"
     ]
    }
   ],
   "source": [
    "# Sort the dataframe to order the output of column labels from the info() method\n",
    "\n",
    "maps.sort_index(axis=1).info()"
   ]
  },
  {
   "cell_type": "markdown",
   "metadata": {},
   "source": [
    "#### View contents of a dataframe \n",
    "\n",
    "The head() and tail() methods in pandas display the first or last n rows of data. \n",
    "* [pandas.DataFrame.head](https://pandas.pydata.org/pandas-docs/stable/reference/api/pandas.DataFrame.head.html)\n",
    "\n",
    "By default head or tails will display 5 rows; below we specify 3 to see fewer rows. \n",
    "\n",
    "Note that the column headers are no longer sorted alphabetically, because we did not apply the sort persistently.\n"
   ]
  },
  {
   "cell_type": "code",
   "execution_count": 21,
   "metadata": {},
   "outputs": [
    {
     "data": {
      "text/html": [
       "<div>\n",
       "<style scoped>\n",
       "    .dataframe tbody tr th:only-of-type {\n",
       "        vertical-align: middle;\n",
       "    }\n",
       "\n",
       "    .dataframe tbody tr th {\n",
       "        vertical-align: top;\n",
       "    }\n",
       "\n",
       "    .dataframe thead th {\n",
       "        text-align: right;\n",
       "    }\n",
       "</style>\n",
       "<table border=\"1\" class=\"dataframe\">\n",
       "  <thead>\n",
       "    <tr style=\"text-align: right;\">\n",
       "      <th></th>\n",
       "      <th>Title</th>\n",
       "      <th>Alternative Title</th>\n",
       "      <th>Creator</th>\n",
       "      <th>Contributor</th>\n",
       "      <th>Creation Date</th>\n",
       "      <th>Date</th>\n",
       "      <th>Search by Decade</th>\n",
       "      <th>Description</th>\n",
       "      <th>Subject (tgm)</th>\n",
       "      <th>Subject Topical</th>\n",
       "      <th>...</th>\n",
       "      <th>N.C. Ed. Standard</th>\n",
       "      <th>URL</th>\n",
       "      <th>Local Identifier</th>\n",
       "      <th>Creator Identifier</th>\n",
       "      <th>filename</th>\n",
       "      <th>Copyright</th>\n",
       "      <th>Usage Rights</th>\n",
       "      <th>Raw Scan Filename</th>\n",
       "      <th>Date created</th>\n",
       "      <th>Date modified</th>\n",
       "    </tr>\n",
       "  </thead>\n",
       "  <tbody>\n",
       "    <tr>\n",
       "      <th>0</th>\n",
       "      <td>Redoubt C</td>\n",
       "      <td>NaN</td>\n",
       "      <td>Gilmer, Jeremy Francis, 1818-1883.</td>\n",
       "      <td>Fitz, Newton.</td>\n",
       "      <td>1861; 1862; 1863; 1864; 1865</td>\n",
       "      <td>undated</td>\n",
       "      <td>1860; 1861; 1862; 1863; 1864; 1865; 1866; 1867...</td>\n",
       "      <td>A map of Redoubt C drawn under the direction o...</td>\n",
       "      <td>Maps</td>\n",
       "      <td>United States--History--Civil War, 1861-1865.;</td>\n",
       "      <td>...</td>\n",
       "      <td>NaN</td>\n",
       "      <td>NaN</td>\n",
       "      <td>276/182</td>\n",
       "      <td>Gilmer Map Number 7</td>\n",
       "      <td>276_182_E.tif</td>\n",
       "      <td>Public Domain</td>\n",
       "      <td>NaN</td>\n",
       "      <td>276_182.tif</td>\n",
       "      <td>2005-11-23</td>\n",
       "      <td>2015-09-14</td>\n",
       "    </tr>\n",
       "    <tr>\n",
       "      <th>1</th>\n",
       "      <td>Plan of Battery McIntosh</td>\n",
       "      <td>NaN</td>\n",
       "      <td>Gilmer, Jeremy Francis, 1818-1883.</td>\n",
       "      <td>Fitz, Newton.</td>\n",
       "      <td>1861; 1862; 1863; 1864; 1865</td>\n",
       "      <td>undated</td>\n",
       "      <td>1860; 1861; 1862; 1863; 1864; 1865; 1866; 1867...</td>\n",
       "      <td>A map of the plan of Battery McIntosh, drawn u...</td>\n",
       "      <td>Maps</td>\n",
       "      <td>United States--History--Civil War, 1861-1865.;</td>\n",
       "      <td>...</td>\n",
       "      <td>NaN</td>\n",
       "      <td>NaN</td>\n",
       "      <td>276/183</td>\n",
       "      <td>Gilmer Map Number 8</td>\n",
       "      <td>276_183_E.tif</td>\n",
       "      <td>Public Domain</td>\n",
       "      <td>NaN</td>\n",
       "      <td>276_183.tif</td>\n",
       "      <td>2005-11-23</td>\n",
       "      <td>2015-09-14</td>\n",
       "    </tr>\n",
       "    <tr>\n",
       "      <th>2</th>\n",
       "      <td>Fort DeRussy on Red River, Louisiana</td>\n",
       "      <td>NaN</td>\n",
       "      <td>Gilmer, Jeremy Francis, 1818-1883.</td>\n",
       "      <td>NaN</td>\n",
       "      <td>1864</td>\n",
       "      <td>1864</td>\n",
       "      <td>1860; 1861; 1862; 1863; 1864; 1865; 1866; 1867...</td>\n",
       "      <td>The plans of Fort DeRussy and obstructions of ...</td>\n",
       "      <td>Maps</td>\n",
       "      <td>United States--History--Civil War, 1861-1865.;</td>\n",
       "      <td>...</td>\n",
       "      <td>NaN</td>\n",
       "      <td>NaN</td>\n",
       "      <td>276/203</td>\n",
       "      <td>Gilmer Map Number 196</td>\n",
       "      <td>276_203_E.tif</td>\n",
       "      <td>Public Domain</td>\n",
       "      <td>NaN</td>\n",
       "      <td>276_203.tif</td>\n",
       "      <td>2005-12-08</td>\n",
       "      <td>2015-09-14</td>\n",
       "    </tr>\n",
       "  </tbody>\n",
       "</table>\n",
       "<p>3 rows × 36 columns</p>\n",
       "</div>"
      ],
      "text/plain": [
       "                                  Title Alternative Title  \\\n",
       "0                             Redoubt C               NaN   \n",
       "1              Plan of Battery McIntosh               NaN   \n",
       "2  Fort DeRussy on Red River, Louisiana               NaN   \n",
       "\n",
       "                              Creator    Contributor  \\\n",
       "0  Gilmer, Jeremy Francis, 1818-1883.  Fitz, Newton.   \n",
       "1  Gilmer, Jeremy Francis, 1818-1883.  Fitz, Newton.   \n",
       "2  Gilmer, Jeremy Francis, 1818-1883.            NaN   \n",
       "\n",
       "                  Creation Date     Date  \\\n",
       "0  1861; 1862; 1863; 1864; 1865  undated   \n",
       "1  1861; 1862; 1863; 1864; 1865  undated   \n",
       "2                          1864     1864   \n",
       "\n",
       "                                    Search by Decade  \\\n",
       "0  1860; 1861; 1862; 1863; 1864; 1865; 1866; 1867...   \n",
       "1  1860; 1861; 1862; 1863; 1864; 1865; 1866; 1867...   \n",
       "2  1860; 1861; 1862; 1863; 1864; 1865; 1866; 1867...   \n",
       "\n",
       "                                         Description Subject (tgm)  \\\n",
       "0  A map of Redoubt C drawn under the direction o...          Maps   \n",
       "1  A map of the plan of Battery McIntosh, drawn u...          Maps   \n",
       "2  The plans of Fort DeRussy and obstructions of ...          Maps   \n",
       "\n",
       "                                  Subject Topical  ... N.C. Ed. Standard URL  \\\n",
       "0  United States--History--Civil War, 1861-1865.;  ...               NaN NaN   \n",
       "1  United States--History--Civil War, 1861-1865.;  ...               NaN NaN   \n",
       "2  United States--History--Civil War, 1861-1865.;  ...               NaN NaN   \n",
       "\n",
       "  Local Identifier     Creator Identifier       filename      Copyright  \\\n",
       "0          276/182    Gilmer Map Number 7  276_182_E.tif  Public Domain   \n",
       "1          276/183    Gilmer Map Number 8  276_183_E.tif  Public Domain   \n",
       "2          276/203  Gilmer Map Number 196  276_203_E.tif  Public Domain   \n",
       "\n",
       "  Usage Rights Raw Scan Filename Date created Date modified  \n",
       "0          NaN       276_182.tif   2005-11-23    2015-09-14  \n",
       "1          NaN       276_183.tif   2005-11-23    2015-09-14  \n",
       "2          NaN       276_203.tif   2005-12-08    2015-09-14  \n",
       "\n",
       "[3 rows x 36 columns]"
      ]
     },
     "execution_count": 21,
     "metadata": {},
     "output_type": "execute_result"
    }
   ],
   "source": [
    "maps.head(3)"
   ]
  },
  {
   "cell_type": "markdown",
   "metadata": {},
   "source": [
    "#### Explore another dataset\n",
    "\n",
    "Now we'll create another dataframe from a different collection. \n",
    "\n",
    "Using shape and info() to get a basic sense of the data, we can see that this data sheet has nearly twice as many column labels, and tons of empty fields.  \n",
    "\n",
    "We filter the dataset by getting rid of the empty columns, and selecting a set of columns to focus on. "
   ]
  },
  {
   "cell_type": "markdown",
   "metadata": {},
   "source": [
    "#### Specify delimiter for read_csv\n",
    "\n",
    "You can also use the read_csv function for other kinds of delimiters, such as tab-delimited for this metadata file. \n",
    "\n"
   ]
  },
  {
   "cell_type": "code",
   "execution_count": 22,
   "metadata": {},
   "outputs": [],
   "source": [
    "# read in another example dataset as a separate dataframe. \n",
    "\n",
    "# use sep parameter to specify tab as delimiter\n",
    "\n",
    "rev=pd.read_csv(\"./exampleData/60001.txt\", sep='\\t')"
   ]
  },
  {
   "cell_type": "code",
   "execution_count": 23,
   "metadata": {},
   "outputs": [
    {
     "data": {
      "text/plain": [
       "(538, 60)"
      ]
     },
     "execution_count": 23,
     "metadata": {},
     "output_type": "execute_result"
    }
   ],
   "source": [
    "# df.shape to output number of rows and columns\n",
    "\n",
    "rev.shape"
   ]
  },
  {
   "cell_type": "code",
   "execution_count": 24,
   "metadata": {},
   "outputs": [
    {
     "name": "stdout",
     "output_type": "stream",
     "text": [
      "<class 'pandas.core.frame.DataFrame'>\n",
      "RangeIndex: 538 entries, 0 to 537\n",
      "Data columns (total 60 columns):\n",
      "Additional Display                         0 non-null float64\n",
      "Alternative Title                          0 non-null float64\n",
      "Author Chief Source                        0 non-null float64\n",
      "Caption                                    0 non-null float64\n",
      "Cataloging Agency                          0 non-null float64\n",
      "Collection Number                          538 non-null int64\n",
      "Collection in Repository                   538 non-null object\n",
      "Condition                                  0 non-null float64\n",
      "Container type                             538 non-null object\n",
      "Contributor                                0 non-null float64\n",
      "Contributor Note                           42 non-null object\n",
      "Coordinates                                0 non-null float64\n",
      "Copyright Holder                           0 non-null float64\n",
      "Creation Date                              538 non-null int64\n",
      "Creator                                    538 non-null object\n",
      "Creator Identifier                         538 non-null object\n",
      "Creator Nationality/Culture                0 non-null float64\n",
      "Current Location                           0 non-null float64\n",
      "Date                                       538 non-null object\n",
      "Date created                               538 non-null object\n",
      "Date modified                              538 non-null object\n",
      "Description                                504 non-null object\n",
      "Digital Collection                         538 non-null object\n",
      "Finding Aid                                538 non-null object\n",
      "Form                                       526 non-null object\n",
      "Has Part Of                                0 non-null float64\n",
      "Is Part Of                                 0 non-null float64\n",
      "Language                                   0 non-null float64\n",
      "Local Identifier                           0 non-null float64\n",
      "Location in Collection                     538 non-null object\n",
      "Map Details                                0 non-null float64\n",
      "Map Type                                   0 non-null float64\n",
      "Medium                                     0 non-null float64\n",
      "Notes                                      4 non-null object\n",
      "Object                                     538 non-null object\n",
      "Pagination                                 0 non-null float64\n",
      "Physical Description of Analog Original    0 non-null float64\n",
      "Place of Publication                       0 non-null float64\n",
      "Projection                                 0 non-null float64\n",
      "Publisher                                  0 non-null float64\n",
      "Related Resource                           0 non-null float64\n",
      "Resource Type                              526 non-null object\n",
      "Scale                                      0 non-null float64\n",
      "Search by Decade                           0 non-null float64\n",
      "Sort Me                                    0 non-null float64\n",
      "Sponsor                                    0 non-null float64\n",
      "StreamingFile                              0 non-null float64\n",
      "Style/Period                               0 non-null float64\n",
      "Subject (tgm)                              500 non-null object\n",
      "Subject Geographic                         538 non-null object\n",
      "Subject Name                               15 non-null object\n",
      "Subject Topical                            1 non-null object\n",
      "Subject Topical Other                      0 non-null float64\n",
      "Title                                      505 non-null object\n",
      "Title Note                                 0 non-null float64\n",
      "Transcription                              159 non-null object\n",
      "Usage Rights                               538 non-null object\n",
      "Volume/Issue                               0 non-null float64\n",
      "filename                                   538 non-null object\n",
      "geonamesid                                 0 non-null float64\n",
      "dtypes: float64(34), int64(2), object(24)\n",
      "memory usage: 252.3+ KB\n"
     ]
    }
   ],
   "source": [
    "# Sort the dataframe to order the output of column labels from the info() method\n",
    "\n",
    "rev.sort_index(axis=1).info()"
   ]
  },
  {
   "cell_type": "markdown",
   "metadata": {},
   "source": [
    "#### Get rid of empty columns\n",
    "\n",
    "Many of these columns are empty, so we will exclude them. \n",
    "\n",
    "The \"inplace\" attribute will apply this change to the dataframe we are currently working with.\n"
   ]
  },
  {
   "cell_type": "code",
   "execution_count": 25,
   "metadata": {},
   "outputs": [
    {
     "name": "stdout",
     "output_type": "stream",
     "text": [
      "<class 'pandas.core.frame.DataFrame'>\n",
      "RangeIndex: 538 entries, 0 to 537\n",
      "Data columns (total 26 columns):\n",
      "Collection Number           538 non-null int64\n",
      "Collection in Repository    538 non-null object\n",
      "Container type              538 non-null object\n",
      "Contributor Note            42 non-null object\n",
      "Creation Date               538 non-null int64\n",
      "Creator                     538 non-null object\n",
      "Creator Identifier          538 non-null object\n",
      "Date                        538 non-null object\n",
      "Date created                538 non-null object\n",
      "Date modified               538 non-null object\n",
      "Description                 504 non-null object\n",
      "Digital Collection          538 non-null object\n",
      "Finding Aid                 538 non-null object\n",
      "Form                        526 non-null object\n",
      "Location in Collection      538 non-null object\n",
      "Notes                       4 non-null object\n",
      "Object                      538 non-null object\n",
      "Resource Type               526 non-null object\n",
      "Subject (tgm)               500 non-null object\n",
      "Subject Geographic          538 non-null object\n",
      "Subject Name                15 non-null object\n",
      "Subject Topical             1 non-null object\n",
      "Title                       505 non-null object\n",
      "Transcription               159 non-null object\n",
      "Usage Rights                538 non-null object\n",
      "filename                    538 non-null object\n",
      "dtypes: int64(2), object(24)\n",
      "memory usage: 109.4+ KB\n"
     ]
    }
   ],
   "source": [
    "# Drop empty columns. Inplace attribute overwrites the working dataframe. \n",
    "\n",
    "rev.dropna(axis = 1, how ='all', inplace = True)\n",
    "\n",
    "# output updated dataframe\n",
    "\n",
    "rev.sort_index(axis=1).info()"
   ]
  },
  {
   "cell_type": "markdown",
   "metadata": {},
   "source": [
    "#### Applying Methods to Series in a Dataframe\n",
    "\n",
    "Columns in the dataframe are a python object called a Series. You can use some methods at the level of Series as well as at the dataframe level. \n",
    "\n",
    "For example, the head() and tail() methods can also be applied to series as well as the whole dataframe. \n",
    "\n",
    "Below we use the head method to look at a list of values in the Title field in our dataframe. \n"
   ]
  },
  {
   "cell_type": "code",
   "execution_count": 26,
   "metadata": {},
   "outputs": [
    {
     "data": {
      "text/plain": [
       "0                                      Young protesters\n",
       "1                                 Yanukovych supporters\n",
       "2                                       Young protestor\n",
       "3                      Information van on a Kyiv street\n",
       "4      Protesters mingling outside the Central Terminal\n",
       "5                  Marching towards the Supreme Council\n",
       "6                                 Crazy orange hair day\n",
       "7                                 Young revolutionaries\n",
       "8     Yushchenko supporters rallying on Vokzal'na Sq...\n",
       "9                  Shevchenko and the Orange Revolution\n",
       "10                           Valenki for the protesters\n",
       "11         Orthodox procession in support of Yanukovych\n",
       "12                                   Mass Advertisement\n",
       "13                                          A call home\n",
       "14                          Young man holding up a flag\n",
       "15                                      Tent City signs\n",
       "16                      The Orange Revolution in action\n",
       "17                   Tent City in the Orange Revolution\n",
       "18                                   Valenok Caricature\n",
       "19    Sticker \"war\" between Yushchenko and Yanukovyc...\n",
       "20                                         Lady Liberty\n",
       "21                                     Happy protestors\n",
       "22                                 Maidan Entertainment\n",
       "23                                      Car decorations\n",
       "Name: Title, dtype: object"
      ]
     },
     "execution_count": 26,
     "metadata": {},
     "output_type": "execute_result"
    }
   ],
   "source": [
    "# View the first n rows of the Title column\n",
    "\n",
    "rev.Title.head(24)"
   ]
  },
  {
   "cell_type": "markdown",
   "metadata": {},
   "source": [
    "**Chaining methods**\n",
    "\n",
    "You can chain methods together to apply another method to an object that has a method applied. \n",
    "\n",
    "Here we use the `sort_values` method to sort values in the Title series.  \n",
    "\n",
    "We use the 'ascending'=False parameter to sort reverse-alphabetically.  \n",
    "\n",
    "Then we apply the head() method to view the first 12 values of the sorted series. \n"
   ]
  },
  {
   "cell_type": "code",
   "execution_count": 27,
   "metadata": {},
   "outputs": [
    {
     "data": {
      "text/plain": [
       "421                     [Duplicate: Folder 0007-Fashion]\n",
       "444                     [Duplicate: Folder 0007 Fashion]\n",
       "426                     [Duplicate- Folder 0007 Fashion]\n",
       "319           Zoomed out view of Maĭdan Nezalez︠h︡nosti\n",
       "322                             Zbigniew Bujak at Maidan\n",
       "295                   Zbigniew Bujak and his colleagues.\n",
       "28                                        Zbigniew Bujak\n",
       "356                   Yushchenko supporters with trident\n",
       "250            Yushchenko supporters showing peace signs\n",
       "8      Yushchenko supporters rallying on Vokzal'na Sq...\n",
       "506      Yushchenko supporters mingling behind barricade\n",
       "511                 Yushchenko supporter in front of bus\n",
       "514       Yushchenko supporter buses on nighttime street\n",
       "382    Yushchenko banner covered in signatures signif...\n",
       "218                                Yushchenko Supporters\n",
       "88                     Yuri Shevchuk on Maidan jumbotron\n",
       "196                    Yuri Shevchuk on Maidan jumbotron\n",
       "187                     Youth at Maĭdan Nezalez︠h︡nosti\n",
       "406                     Youth at Maĭdan Nezalez︠h︡nosti\n",
       "260                                      Youth at Maidan\n",
       "7                                  Young revolutionaries\n",
       "373                                     Young protestors\n",
       "201                Young protestor smiling at the camera\n",
       "445                                      Young protestor\n",
       "Name: Title, dtype: object"
      ]
     },
     "execution_count": 27,
     "metadata": {},
     "output_type": "execute_result"
    }
   ],
   "source": [
    "# View the first n values in the 'Title' series sorted alphabetically\n",
    "\n",
    "rev.Title.sort_values(ascending=False).head(24)"
   ]
  },
  {
   "cell_type": "markdown",
   "metadata": {},
   "source": [
    "#### How to Precisely Specify Locations in the Data\n",
    "\n",
    "The `.loc` method allows for selecting individual or multiple rows and columns.   \n",
    "* [pandas.DataFrame.loc](https://pandas.pydata.org/pandas-docs/stable/reference/api/pandas.DataFrame.loc.html)\n",
    "\n",
    "Below we'll focus on the ``'Title','Date', 'Usage Rights', and 'filename'`` columns. \n",
    "\n",
    "We use a `:` to include all rows of the dataframe. \n",
    "\n",
    "We will use the tail() method to view the last few rows from this selection.  \n"
   ]
  },
  {
   "cell_type": "code",
   "execution_count": 28,
   "metadata": {},
   "outputs": [
    {
     "data": {
      "text/html": [
       "<div>\n",
       "<style scoped>\n",
       "    .dataframe tbody tr th:only-of-type {\n",
       "        vertical-align: middle;\n",
       "    }\n",
       "\n",
       "    .dataframe tbody tr th {\n",
       "        vertical-align: top;\n",
       "    }\n",
       "\n",
       "    .dataframe thead th {\n",
       "        text-align: right;\n",
       "    }\n",
       "</style>\n",
       "<table border=\"1\" class=\"dataframe\">\n",
       "  <thead>\n",
       "    <tr style=\"text-align: right;\">\n",
       "      <th></th>\n",
       "      <th>Title</th>\n",
       "      <th>Date</th>\n",
       "      <th>Usage Rights</th>\n",
       "      <th>filename</th>\n",
       "    </tr>\n",
       "  </thead>\n",
       "  <tbody>\n",
       "    <tr>\n",
       "      <th>530</th>\n",
       "      <td>NaN</td>\n",
       "      <td>29 November 2004</td>\n",
       "      <td>For copyright information or permissions quest...</td>\n",
       "      <td>60001_df0005_023.tif</td>\n",
       "    </tr>\n",
       "    <tr>\n",
       "      <th>531</th>\n",
       "      <td>Maidan crowds</td>\n",
       "      <td>29 November 2004</td>\n",
       "      <td>For copyright information or permissions quest...</td>\n",
       "      <td>60001_df0007_023.tif</td>\n",
       "    </tr>\n",
       "    <tr>\n",
       "      <th>532</th>\n",
       "      <td>Flags over Maidan</td>\n",
       "      <td>27 November 2004</td>\n",
       "      <td>For copyright information or permissions quest...</td>\n",
       "      <td>60001_df0001_012.tif</td>\n",
       "    </tr>\n",
       "    <tr>\n",
       "      <th>533</th>\n",
       "      <td>NaN</td>\n",
       "      <td>30 November 2004</td>\n",
       "      <td>For copyright information or permissions quest...</td>\n",
       "      <td>60001_df0005_050.tif</td>\n",
       "    </tr>\n",
       "    <tr>\n",
       "      <th>534</th>\n",
       "      <td>Women in the Orange Revolution</td>\n",
       "      <td>29 November 2004</td>\n",
       "      <td>For copyright information or permissions quest...</td>\n",
       "      <td>60001_df0009_11.tif</td>\n",
       "    </tr>\n",
       "    <tr>\n",
       "      <th>535</th>\n",
       "      <td>Young protesters</td>\n",
       "      <td>27 November 2004</td>\n",
       "      <td>For copyright information or permissions quest...</td>\n",
       "      <td>60001_df0003_021.tif</td>\n",
       "    </tr>\n",
       "    <tr>\n",
       "      <th>536</th>\n",
       "      <td>Protestor Vehicles</td>\n",
       "      <td>10 December 2004</td>\n",
       "      <td>For copyright information or permissions quest...</td>\n",
       "      <td>60001_df0007_092.tif</td>\n",
       "    </tr>\n",
       "    <tr>\n",
       "      <th>537</th>\n",
       "      <td>NaN</td>\n",
       "      <td>10 December 2004</td>\n",
       "      <td>For copyright information or permissions quest...</td>\n",
       "      <td>60001_df0009_33.tif</td>\n",
       "    </tr>\n",
       "  </tbody>\n",
       "</table>\n",
       "</div>"
      ],
      "text/plain": [
       "                              Title              Date  \\\n",
       "530                             NaN  29 November 2004   \n",
       "531                   Maidan crowds  29 November 2004   \n",
       "532               Flags over Maidan  27 November 2004   \n",
       "533                             NaN  30 November 2004   \n",
       "534  Women in the Orange Revolution  29 November 2004   \n",
       "535                Young protesters  27 November 2004   \n",
       "536              Protestor Vehicles  10 December 2004   \n",
       "537                             NaN  10 December 2004   \n",
       "\n",
       "                                          Usage Rights              filename  \n",
       "530  For copyright information or permissions quest...  60001_df0005_023.tif  \n",
       "531  For copyright information or permissions quest...  60001_df0007_023.tif  \n",
       "532  For copyright information or permissions quest...  60001_df0001_012.tif  \n",
       "533  For copyright information or permissions quest...  60001_df0005_050.tif  \n",
       "534  For copyright information or permissions quest...   60001_df0009_11.tif  \n",
       "535  For copyright information or permissions quest...  60001_df0003_021.tif  \n",
       "536  For copyright information or permissions quest...  60001_df0007_092.tif  \n",
       "537  For copyright information or permissions quest...   60001_df0009_33.tif  "
      ]
     },
     "execution_count": 28,
     "metadata": {},
     "output_type": "execute_result"
    }
   ],
   "source": [
    "# specify multiple rows and columns by label with loc method \n",
    "\n",
    "rev.loc[:,['Title','Date', 'Usage Rights', 'filename']].tail(8)"
   ]
  },
  {
   "cell_type": "markdown",
   "metadata": {},
   "source": [
    "**Apply the same columns to the maps dataframe**\n",
    "\n",
    "Meanwhile, our maps dataframe is still available in working memory. \n",
    "\n",
    "Because the same column labels exist in the maps dataset, we can select out these columns from maps using .loc, the same way as we did with the rev dataframe above.  \n"
   ]
  },
  {
   "cell_type": "code",
   "execution_count": 29,
   "metadata": {},
   "outputs": [
    {
     "data": {
      "text/html": [
       "<div>\n",
       "<style scoped>\n",
       "    .dataframe tbody tr th:only-of-type {\n",
       "        vertical-align: middle;\n",
       "    }\n",
       "\n",
       "    .dataframe tbody tr th {\n",
       "        vertical-align: top;\n",
       "    }\n",
       "\n",
       "    .dataframe thead th {\n",
       "        text-align: right;\n",
       "    }\n",
       "</style>\n",
       "<table border=\"1\" class=\"dataframe\">\n",
       "  <thead>\n",
       "    <tr style=\"text-align: right;\">\n",
       "      <th></th>\n",
       "      <th>Title</th>\n",
       "      <th>Date</th>\n",
       "      <th>Usage Rights</th>\n",
       "      <th>filename</th>\n",
       "    </tr>\n",
       "  </thead>\n",
       "  <tbody>\n",
       "    <tr>\n",
       "      <th>153</th>\n",
       "      <td>Part of Spotslyvania county</td>\n",
       "      <td>undated</td>\n",
       "      <td>NaN</td>\n",
       "      <td>276_271_E.tif</td>\n",
       "    </tr>\n",
       "    <tr>\n",
       "      <th>154</th>\n",
       "      <td>Area around Culpepper courthouse, bounded sout...</td>\n",
       "      <td>undated</td>\n",
       "      <td>NaN</td>\n",
       "      <td>276_272_E.tif</td>\n",
       "    </tr>\n",
       "    <tr>\n",
       "      <th>155</th>\n",
       "      <td>Area around Falmouth east to Potomac river</td>\n",
       "      <td>undated</td>\n",
       "      <td>NaN</td>\n",
       "      <td>276_273_E.tif</td>\n",
       "    </tr>\n",
       "    <tr>\n",
       "      <th>156</th>\n",
       "      <td>Map of parts of Orange, Spotsylvania, Caroline...</td>\n",
       "      <td>undated</td>\n",
       "      <td>NaN</td>\n",
       "      <td>276_274_E.tif</td>\n",
       "    </tr>\n",
       "    <tr>\n",
       "      <th>157</th>\n",
       "      <td>Military map of the country in the occupation ...</td>\n",
       "      <td>undated</td>\n",
       "      <td>NaN</td>\n",
       "      <td>276_275_E.tif</td>\n",
       "    </tr>\n",
       "    <tr>\n",
       "      <th>158</th>\n",
       "      <td>Map of the Rappahannock River from Fredericksb...</td>\n",
       "      <td>undated</td>\n",
       "      <td>NaN</td>\n",
       "      <td>276_276_E.tif</td>\n",
       "    </tr>\n",
       "    <tr>\n",
       "      <th>159</th>\n",
       "      <td>Incomplete and unidentified sketch of area in ...</td>\n",
       "      <td>undated</td>\n",
       "      <td>NaN</td>\n",
       "      <td>276_330_E.tif</td>\n",
       "    </tr>\n",
       "    <tr>\n",
       "      <th>160</th>\n",
       "      <td>Pleasant Hill</td>\n",
       "      <td>1864</td>\n",
       "      <td>NaN</td>\n",
       "      <td>276_207_E.tif</td>\n",
       "    </tr>\n",
       "  </tbody>\n",
       "</table>\n",
       "</div>"
      ],
      "text/plain": [
       "                                                 Title     Date  Usage Rights  \\\n",
       "153                        Part of Spotslyvania county  undated           NaN   \n",
       "154  Area around Culpepper courthouse, bounded sout...  undated           NaN   \n",
       "155         Area around Falmouth east to Potomac river  undated           NaN   \n",
       "156  Map of parts of Orange, Spotsylvania, Caroline...  undated           NaN   \n",
       "157  Military map of the country in the occupation ...  undated           NaN   \n",
       "158  Map of the Rappahannock River from Fredericksb...  undated           NaN   \n",
       "159  Incomplete and unidentified sketch of area in ...  undated           NaN   \n",
       "160                                      Pleasant Hill     1864           NaN   \n",
       "\n",
       "          filename  \n",
       "153  276_271_E.tif  \n",
       "154  276_272_E.tif  \n",
       "155  276_273_E.tif  \n",
       "156  276_274_E.tif  \n",
       "157  276_275_E.tif  \n",
       "158  276_276_E.tif  \n",
       "159  276_330_E.tif  \n",
       "160  276_207_E.tif  "
      ]
     },
     "execution_count": 29,
     "metadata": {},
     "output_type": "execute_result"
    }
   ],
   "source": [
    "# examine the same columns in the 'maps' dataframe\n",
    "# tail method displays the last n rows\n",
    "\n",
    "maps.loc[:,['Title','Date', 'Usage Rights', 'filename']].tail(8)"
   ]
  },
  {
   "cell_type": "markdown",
   "metadata": {},
   "source": [
    "### Recap of Metadata Example 1\n",
    "\n",
    "In this example, we got familiar with our collections metadata, and identified fields to assess.  \n",
    "\n",
    "In the next example, we will select out the relevant fields from a group of files, compile separate dataframes into a single dataframe, and compare fields across collections. \n",
    "\n",
    "\n",
    "**Summary of example:** \n",
    "\n",
    "* reading CSV and tab-delimited metadata sheets into dataframes\n",
    "* exploring a dataframe as a whole, series within a dataframe, values in rows and columns\n",
    "* filtering datasets by removing empty and irrelevant columns\n",
    "* selecting columns to include\n",
    "* working with multiple dataframes at once\n"
   ]
  },
  {
   "cell_type": "markdown",
   "metadata": {},
   "source": [
    "### Exercise 3: Troubleshoot a Datatype Issue <a name=\"ex3\"></a>\n"
   ]
  },
  {
   "cell_type": "markdown",
   "metadata": {},
   "source": [
    "One of the three collections in this example has Collection Number: 03883. The metadata filename is 03883.txt. \n",
    "\n",
    "What problems do you foresee for this collection number?  \n",
    "How would you check to see if the Collection Number values are correctly stored in the dataframe? \n",
    "\n",
    "Use the empty code cells below for this exercise: \n",
    "\n",
    "* Create a data frame from filename: './exampleData/03883.txt'\n",
    "* Using the types of methods we've used so far, check out the column names, values in each column, and datatypes assigned. \n",
    "* Take a look at the values in the Collection Number column. \n"
   ]
  },
  {
   "cell_type": "code",
   "execution_count": 30,
   "metadata": {},
   "outputs": [],
   "source": [
    "# create a data frame from filename: './exampleData/03883.txt'\n",
    "\n"
   ]
  },
  {
   "cell_type": "code",
   "execution_count": 31,
   "metadata": {},
   "outputs": [],
   "source": [
    "# use shape attribute to summarize rows and columns.\n"
   ]
  },
  {
   "cell_type": "code",
   "execution_count": 32,
   "metadata": {},
   "outputs": [],
   "source": [
    "# (optional) drop empty columns \n",
    "\n",
    "\n"
   ]
  },
  {
   "cell_type": "code",
   "execution_count": 33,
   "metadata": {},
   "outputs": [],
   "source": [
    "# view first n rows of the series: df['Collection Number']\n",
    "\n"
   ]
  },
  {
   "cell_type": "code",
   "execution_count": 34,
   "metadata": {},
   "outputs": [],
   "source": [
    "# empty code cell- use if needed \n",
    "\n"
   ]
  },
  {
   "cell_type": "markdown",
   "metadata": {},
   "source": [
    "###  Solution to Exercise 3: Troubleshoot a Datatype Issue"
   ]
  },
  {
   "cell_type": "code",
   "execution_count": 35,
   "metadata": {},
   "outputs": [],
   "source": [
    "# create a data frame from filename: './exampleData/03883.txt'\n",
    "\n",
    "df=pd.read_csv('./exampleData/03883.txt', sep='\\t')"
   ]
  },
  {
   "cell_type": "code",
   "execution_count": 36,
   "metadata": {},
   "outputs": [
    {
     "data": {
      "text/plain": [
       "(899, 64)"
      ]
     },
     "execution_count": 36,
     "metadata": {},
     "output_type": "execute_result"
    }
   ],
   "source": [
    "# use shape attribute to summarize rows and columns.\n",
    "\n",
    "df.shape"
   ]
  },
  {
   "cell_type": "code",
   "execution_count": 37,
   "metadata": {},
   "outputs": [
    {
     "name": "stdout",
     "output_type": "stream",
     "text": [
      "<class 'pandas.core.frame.DataFrame'>\n",
      "RangeIndex: 899 entries, 0 to 898\n",
      "Data columns (total 64 columns):\n",
      "Collection in Repository                   899 non-null object\n",
      "Collection Number                          899 non-null int64\n",
      "Location in Collection                     899 non-null object\n",
      "Object                                     899 non-null object\n",
      "Container Type                             899 non-null object\n",
      "filename                                   899 non-null object\n",
      "Title                                      0 non-null float64\n",
      "Alternative Title                          0 non-null float64\n",
      "Creator                                    0 non-null float64\n",
      "Contributor                                0 non-null float64\n",
      "Creation Date                              0 non-null float64\n",
      "Date                                       0 non-null float64\n",
      "Description                                0 non-null float64\n",
      "Subject (tgm)                              0 non-null float64\n",
      "Subject Name                               0 non-null float64\n",
      "Subject Topical                            0 non-null float64\n",
      "Subject Geographic                         0 non-null float64\n",
      "Subject Topical Other                      0 non-null float64\n",
      "Coordinates                                0 non-null float64\n",
      "geonamesid                                 0 non-null float64\n",
      "Digital Collection                         0 non-null float64\n",
      "Repository                                 0 non-null float64\n",
      "Host                                       0 non-null float64\n",
      "Usage Rights                               899 non-null object\n",
      "Copyright Holder                           0 non-null float64\n",
      "Additional Display                         0 non-null float64\n",
      "Transcription                              0 non-null float64\n",
      "Caption                                    0 non-null float64\n",
      "Notes                                      0 non-null float64\n",
      "Title Note                                 0 non-null float64\n",
      "Contributor Note                           0 non-null float64\n",
      "Sponsor                                    0 non-null float64\n",
      "Related Resource                           0 non-null float64\n",
      "Author Chief Source                        0 non-null float64\n",
      "Publisher                                  0 non-null float64\n",
      "Place of Publication                       0 non-null float64\n",
      "Cataloging Agency                          0 non-null float64\n",
      "Is Part Of                                 0 non-null float64\n",
      "Has Part Of                                0 non-null float64\n",
      "Form                                       0 non-null float64\n",
      "Resource Type                              0 non-null float64\n",
      "Medium                                     0 non-null float64\n",
      "Condition                                  0 non-null float64\n",
      "Language                                   0 non-null float64\n",
      "Physical Description of Analog Original    0 non-null float64\n",
      "Creator Nationality/Culture                0 non-null float64\n",
      "Style/Period                               0 non-null float64\n",
      "Volume/Issue                               0 non-null float64\n",
      "Scale                                      0 non-null float64\n",
      "Projection                                 0 non-null float64\n",
      "Map Type                                   0 non-null float64\n",
      "Map Details                                0 non-null float64\n",
      "Current Location                           0 non-null float64\n",
      "path                                       0 non-null float64\n",
      "Local Identifier                           0 non-null float64\n",
      "Creator Identifier                         0 non-null float64\n",
      "Search by Decade                           0 non-null float64\n",
      "Pagination                                 0 non-null float64\n",
      "Sort Me                                    0 non-null float64\n",
      "StreamingFile                              0 non-null float64\n",
      "duracloudSpace                             0 non-null float64\n",
      "OCLC number                                0 non-null float64\n",
      "Date created                               899 non-null object\n",
      "Date modified                              899 non-null object\n",
      "dtypes: float64(55), int64(1), object(8)\n",
      "memory usage: 449.6+ KB\n"
     ]
    }
   ],
   "source": [
    "# use the info method to see column names and item counts in each column\n",
    "\n",
    "df.info()"
   ]
  },
  {
   "cell_type": "code",
   "execution_count": 38,
   "metadata": {},
   "outputs": [
    {
     "name": "stdout",
     "output_type": "stream",
     "text": [
      "<class 'pandas.core.frame.DataFrame'>\n",
      "RangeIndex: 899 entries, 0 to 898\n",
      "Data columns (total 9 columns):\n",
      "Collection in Repository    899 non-null object\n",
      "Collection Number           899 non-null int64\n",
      "Location in Collection      899 non-null object\n",
      "Object                      899 non-null object\n",
      "Container Type              899 non-null object\n",
      "filename                    899 non-null object\n",
      "Usage Rights                899 non-null object\n",
      "Date created                899 non-null object\n",
      "Date modified               899 non-null object\n",
      "dtypes: int64(1), object(8)\n",
      "memory usage: 63.3+ KB\n"
     ]
    }
   ],
   "source": [
    "# drop empty columns \n",
    "\n",
    "df.dropna(axis = 1, how ='all', inplace = True)\n",
    "\n",
    "# again use the info method to see column names and item counts in each column\n",
    "\n",
    "df.info()"
   ]
  },
  {
   "cell_type": "code",
   "execution_count": 39,
   "metadata": {},
   "outputs": [
    {
     "data": {
      "text/plain": [
       "0    3883\n",
       "1    3883\n",
       "2    3883\n",
       "3    3883\n",
       "4    3883\n",
       "Name: Collection Number, dtype: int64"
      ]
     },
     "execution_count": 39,
     "metadata": {},
     "output_type": "execute_result"
    }
   ],
   "source": [
    "# view first n rows of a series \n",
    "\n",
    "df['Collection Number'].head()\n"
   ]
  },
  {
   "cell_type": "markdown",
   "metadata": {},
   "source": [
    "#### specify datatype on import \n",
    "\n",
    "After identifying the problem, use the code below to re-create the dataframe, specifying the datatype for the problematic column"
   ]
  },
  {
   "cell_type": "code",
   "execution_count": 40,
   "metadata": {},
   "outputs": [
    {
     "data": {
      "text/plain": [
       "0    03883\n",
       "1    03883\n",
       "2    03883\n",
       "3    03883\n",
       "4    03883\n",
       "Name: Collection Number, dtype: object"
      ]
     },
     "execution_count": 40,
     "metadata": {},
     "output_type": "execute_result"
    }
   ],
   "source": [
    "# specify datatype on import\n",
    "\n",
    "# re-create the dataframe, specifying datatype 'object' for 'Collection Number' column\n",
    "\n",
    "df=pd.read_csv('./exampleData/03883.txt',sep='\\t', dtype={'Collection Number':object})\n",
    "\n",
    "# again view first n rows of a series \n",
    "\n",
    "df['Collection Number'].head()"
   ]
  },
  {
   "cell_type": "code",
   "execution_count": 41,
   "metadata": {},
   "outputs": [],
   "source": [
    "# empty code cell- use if needed \n",
    "\n"
   ]
  },
  {
   "cell_type": "markdown",
   "metadata": {},
   "source": [
    "## Metadata Example 2: Compare a group of metadata files <a name=\"md2\"></a>\n",
    "\n",
    "In Example 1, we identified fields we want to analyze in our group of collections: Title, Date, Usage Rights, and a few Subject fields. \n",
    "\n",
    "In this example, we will select out the relevant fields from a group of datasheets by creating a variable to store the set of columns we're interested in.  \n",
    "\n",
    "Then we will concatenate metadata from the separate collections into a single dataframe that makes it easier to compare completeness of metadata across the group as a whole. \n",
    "\n",
    "We will generate basic graphs to show comparisons between the collections. \n"
   ]
  },
  {
   "cell_type": "markdown",
   "metadata": {},
   "source": [
    "### Learning Objectives in this example:   \n",
    "\n",
    "* Use a variable for storing a list\n",
    "* Select columns on import with `usecols` parameter\n",
    "* Create a new column\n",
    "* Use `.groupby` to organize data\n",
    "* Generate plots for visual comparisons\n"
   ]
  },
  {
   "cell_type": "markdown",
   "metadata": {},
   "source": [
    "#### Use a variable to store the column names we want\n",
    "\n",
    "We create a variable 'collabels' to hold the list of the Column labels that we will then select out from each datasheet. \n"
   ]
  },
  {
   "cell_type": "code",
   "execution_count": 42,
   "metadata": {},
   "outputs": [],
   "source": [
    "# create a variable for column labels\n",
    "\n",
    "collabels=['Title','Date','Usage Rights', 'Subject Geographic', 'Subject Name' , 'Subject Topical']"
   ]
  },
  {
   "cell_type": "markdown",
   "metadata": {},
   "source": [
    "#### Select relevant columns and create a new column with Collection Names\n",
    "\n",
    "Now we can create a dataframe from each metadata sheet, including only the relevant Columns. \n",
    "\n",
    "We also create a new column in each dataframe that contains a simple collection name. We'll use these collection names when we group the metadata together into a single dataframe. \n"
   ]
  },
  {
   "cell_type": "code",
   "execution_count": 43,
   "metadata": {},
   "outputs": [],
   "source": [
    "# read in the same datasheets from the last example\n",
    "\n",
    "# create a new column in each dataframe that contain a short Collection Name value\n",
    "\n",
    "maps=pd.read_csv(\"./exampleData/maps.csv\", usecols=collabels)\n",
    "maps['colname'] ='Civil War Maps'\n",
    "\n",
    "rev=pd.read_csv(\"./exampleData/60001.txt\", usecols=collabels, sep='\\t')\n",
    "rev['colname'] ='Revolution Photographs'\n",
    "\n",
    "rmb=pd.read_csv(\"./exampleData/03883.txt\", sep='\\t', usecols=collabels)\n",
    "rmb['colname'] ='Roy M Brown Papers'"
   ]
  },
  {
   "cell_type": "markdown",
   "metadata": {},
   "source": [
    "#### Check our new dataframes \n",
    "\n",
    "Again use info() to see the value counts and datatypes in each Column. \n"
   ]
  },
  {
   "cell_type": "code",
   "execution_count": 44,
   "metadata": {},
   "outputs": [
    {
     "name": "stdout",
     "output_type": "stream",
     "text": [
      "<class 'pandas.core.frame.DataFrame'>\n",
      "RangeIndex: 161 entries, 0 to 160\n",
      "Data columns (total 7 columns):\n",
      "Date                  161 non-null object\n",
      "Subject Geographic    161 non-null object\n",
      "Subject Name          161 non-null object\n",
      "Subject Topical       161 non-null object\n",
      "Title                 161 non-null object\n",
      "Usage Rights          0 non-null float64\n",
      "colname               161 non-null object\n",
      "dtypes: float64(1), object(6)\n",
      "memory usage: 8.9+ KB\n",
      "\n",
      "\n",
      "<class 'pandas.core.frame.DataFrame'>\n",
      "RangeIndex: 538 entries, 0 to 537\n",
      "Data columns (total 7 columns):\n",
      "Date                  538 non-null object\n",
      "Subject Geographic    538 non-null object\n",
      "Subject Name          15 non-null object\n",
      "Subject Topical       1 non-null object\n",
      "Title                 505 non-null object\n",
      "Usage Rights          538 non-null object\n",
      "colname               538 non-null object\n",
      "dtypes: object(7)\n",
      "memory usage: 29.5+ KB\n",
      "\n",
      "\n",
      "<class 'pandas.core.frame.DataFrame'>\n",
      "RangeIndex: 899 entries, 0 to 898\n",
      "Data columns (total 7 columns):\n",
      "Date                  0 non-null float64\n",
      "Subject Geographic    0 non-null float64\n",
      "Subject Name          0 non-null float64\n",
      "Subject Topical       0 non-null float64\n",
      "Title                 0 non-null float64\n",
      "Usage Rights          899 non-null object\n",
      "colname               899 non-null object\n",
      "dtypes: float64(5), object(2)\n",
      "memory usage: 49.2+ KB\n"
     ]
    }
   ],
   "source": [
    "# show info for updated dataframes \n",
    "\n",
    "maps.sort_index(axis=1).info()\n",
    "print('\\n')\n",
    "\n",
    "rev.sort_index(axis=1).info()\n",
    "print('\\n')\n",
    "\n",
    "rmb.sort_index(axis=1).info()"
   ]
  },
  {
   "cell_type": "markdown",
   "metadata": {},
   "source": [
    "#### Concatenate into single dataframe\n",
    "\n",
    "We create a new dataframe 'collstack', by concatenating the maps, rmb, and rev dataframes. \n",
    "\n",
    "Then we'll check that everything looks ok by looking at shape and info() for collstack. \n",
    "\n"
   ]
  },
  {
   "cell_type": "code",
   "execution_count": 45,
   "metadata": {},
   "outputs": [],
   "source": [
    "# concatenate dataframes into a single dataframe \n",
    "\n",
    "collstack = pd.concat([maps, rmb, rev],ignore_index=True, axis=0, sort=True)"
   ]
  },
  {
   "cell_type": "code",
   "execution_count": 46,
   "metadata": {},
   "outputs": [
    {
     "data": {
      "text/plain": [
       "(1598, 7)"
      ]
     },
     "execution_count": 46,
     "metadata": {},
     "output_type": "execute_result"
    }
   ],
   "source": [
    "collstack.shape"
   ]
  },
  {
   "cell_type": "code",
   "execution_count": 47,
   "metadata": {},
   "outputs": [
    {
     "name": "stdout",
     "output_type": "stream",
     "text": [
      "<class 'pandas.core.frame.DataFrame'>\n",
      "RangeIndex: 1598 entries, 0 to 1597\n",
      "Data columns (total 7 columns):\n",
      "Date                  699 non-null object\n",
      "Subject Geographic    699 non-null object\n",
      "Subject Name          176 non-null object\n",
      "Subject Topical       162 non-null object\n",
      "Title                 666 non-null object\n",
      "Usage Rights          1437 non-null object\n",
      "colname               1598 non-null object\n",
      "dtypes: object(7)\n",
      "memory usage: 87.5+ KB\n"
     ]
    }
   ],
   "source": [
    "collstack.info()"
   ]
  },
  {
   "cell_type": "markdown",
   "metadata": {},
   "source": [
    "#### Group the data by the Collection Names we created\n",
    "\n",
    "Now we can group the data by the Collection Names, and select fields to compare across the collections. \n",
    "\n",
    "The count() method counts the values in the Title and Usage Rights field for each collection. \n",
    "\n"
   ]
  },
  {
   "cell_type": "code",
   "execution_count": 48,
   "metadata": {},
   "outputs": [
    {
     "data": {
      "text/html": [
       "<div>\n",
       "<style scoped>\n",
       "    .dataframe tbody tr th:only-of-type {\n",
       "        vertical-align: middle;\n",
       "    }\n",
       "\n",
       "    .dataframe tbody tr th {\n",
       "        vertical-align: top;\n",
       "    }\n",
       "\n",
       "    .dataframe thead th {\n",
       "        text-align: right;\n",
       "    }\n",
       "</style>\n",
       "<table border=\"1\" class=\"dataframe\">\n",
       "  <thead>\n",
       "    <tr style=\"text-align: right;\">\n",
       "      <th></th>\n",
       "      <th>Title</th>\n",
       "      <th>Usage Rights</th>\n",
       "    </tr>\n",
       "    <tr>\n",
       "      <th>colname</th>\n",
       "      <th></th>\n",
       "      <th></th>\n",
       "    </tr>\n",
       "  </thead>\n",
       "  <tbody>\n",
       "    <tr>\n",
       "      <th>Civil War Maps</th>\n",
       "      <td>161</td>\n",
       "      <td>0</td>\n",
       "    </tr>\n",
       "    <tr>\n",
       "      <th>Revolution Photographs</th>\n",
       "      <td>505</td>\n",
       "      <td>538</td>\n",
       "    </tr>\n",
       "    <tr>\n",
       "      <th>Roy M Brown Papers</th>\n",
       "      <td>0</td>\n",
       "      <td>899</td>\n",
       "    </tr>\n",
       "  </tbody>\n",
       "</table>\n",
       "</div>"
      ],
      "text/plain": [
       "                        Title  Usage Rights\n",
       "colname                                    \n",
       "Civil War Maps            161             0\n",
       "Revolution Photographs    505           538\n",
       "Roy M Brown Papers          0           899"
      ]
     },
     "execution_count": 48,
     "metadata": {},
     "output_type": "execute_result"
    }
   ],
   "source": [
    "#group by collection name, counting values in Title and Usage Rights columns\n",
    "\n",
    "collstack.groupby('colname')[['Title', 'Usage Rights']].count()"
   ]
  },
  {
   "cell_type": "markdown",
   "metadata": {},
   "source": [
    "#### Generate Plots to Represent Comparisons Visually\n",
    "\n",
    "Next we'll generate some very basic plots to demonstrate working with pandas and matplotlib. \n",
    "\n",
    "Visualization is obviously a huge area in itself! These are not in any way impressive visualizations, but are just meant to give a little sense of pandas' flexible graphing capabilities. \n",
    "\n",
    "For example, by just adding `.plot(kind='bar')` to the code from the previous cell, we generate a bar graph of the data. \n"
   ]
  },
  {
   "cell_type": "code",
   "execution_count": 102,
   "metadata": {},
   "outputs": [
    {
     "data": {
      "text/plain": [
       "Text(0.5, 0, '')"
      ]
     },
     "execution_count": 102,
     "metadata": {},
     "output_type": "execute_result"
    },
    {
     "data": {
      "image/png": "[encoded data removed]",
      "text/plain": [
       "<Figure size 576x432 with 1 Axes>"
      ]
     },
     "metadata": {
      "needs_background": "light"
     },
     "output_type": "display_data"
    }
   ],
   "source": [
    "# create a bar graph for the Title/Usage Rights comparison\n",
    "\n",
    "collstack.groupby('colname')[['Title', 'Usage Rights']].count().plot(kind='bar', figsize=(8,6),width=0.8, )\n",
    "plt.ylabel('Count of items')\n",
    "plt.xlabel('')"
   ]
  },
  {
   "cell_type": "markdown",
   "metadata": {},
   "source": [
    "#### Investigate Subjects fields across the collections \n",
    "\n",
    "We can include different column labels to focus on the subject fields instead, and plot the result. \n"
   ]
  },
  {
   "cell_type": "code",
   "execution_count": 103,
   "metadata": {},
   "outputs": [
    {
     "data": {
      "text/html": [
       "<div>\n",
       "<style scoped>\n",
       "    .dataframe tbody tr th:only-of-type {\n",
       "        vertical-align: middle;\n",
       "    }\n",
       "\n",
       "    .dataframe tbody tr th {\n",
       "        vertical-align: top;\n",
       "    }\n",
       "\n",
       "    .dataframe thead th {\n",
       "        text-align: right;\n",
       "    }\n",
       "</style>\n",
       "<table border=\"1\" class=\"dataframe\">\n",
       "  <thead>\n",
       "    <tr style=\"text-align: right;\">\n",
       "      <th></th>\n",
       "      <th>Title</th>\n",
       "      <th>Subject Geographic</th>\n",
       "      <th>Subject Name</th>\n",
       "      <th>Subject Topical</th>\n",
       "    </tr>\n",
       "    <tr>\n",
       "      <th>colname</th>\n",
       "      <th></th>\n",
       "      <th></th>\n",
       "      <th></th>\n",
       "      <th></th>\n",
       "    </tr>\n",
       "  </thead>\n",
       "  <tbody>\n",
       "    <tr>\n",
       "      <th>Civil War Maps</th>\n",
       "      <td>161</td>\n",
       "      <td>161</td>\n",
       "      <td>161</td>\n",
       "      <td>161</td>\n",
       "    </tr>\n",
       "    <tr>\n",
       "      <th>Revolution Photographs</th>\n",
       "      <td>505</td>\n",
       "      <td>538</td>\n",
       "      <td>15</td>\n",
       "      <td>1</td>\n",
       "    </tr>\n",
       "    <tr>\n",
       "      <th>Roy M Brown Papers</th>\n",
       "      <td>0</td>\n",
       "      <td>0</td>\n",
       "      <td>0</td>\n",
       "      <td>0</td>\n",
       "    </tr>\n",
       "  </tbody>\n",
       "</table>\n",
       "</div>"
      ],
      "text/plain": [
       "                        Title  Subject Geographic  Subject Name  \\\n",
       "colname                                                           \n",
       "Civil War Maps            161                 161           161   \n",
       "Revolution Photographs    505                 538            15   \n",
       "Roy M Brown Papers          0                   0             0   \n",
       "\n",
       "                        Subject Topical  \n",
       "colname                                  \n",
       "Civil War Maps                      161  \n",
       "Revolution Photographs                1  \n",
       "Roy M Brown Papers                    0  "
      ]
     },
     "execution_count": 103,
     "metadata": {},
     "output_type": "execute_result"
    }
   ],
   "source": [
    "collstack.groupby('colname')[['Title', 'Subject Geographic', 'Subject Name', 'Subject Topical']].count()"
   ]
  },
  {
   "cell_type": "code",
   "execution_count": 104,
   "metadata": {},
   "outputs": [
    {
     "data": {
      "text/plain": [
       "<matplotlib.axes._subplots.AxesSubplot at 0x1d340175978>"
      ]
     },
     "execution_count": 104,
     "metadata": {},
     "output_type": "execute_result"
    },
    {
     "data": {
      "image/png": "[encoded data removed]",
      "text/plain": [
       "<Figure size 576x432 with 1 Axes>"
      ]
     },
     "metadata": {
      "needs_background": "light"
     },
     "output_type": "display_data"
    }
   ],
   "source": [
    "# create a horizontal bar graph for the Subjects comparison\n",
    "\n",
    "collstack.groupby('colname')[['Title', 'Subject Geographic', 'Subject Name', 'Subject Topical']].count().plot(kind='barh', figsize=(8,6), width=0.6)"
   ]
  },
  {
   "cell_type": "markdown",
   "metadata": {},
   "source": [
    "#### Experimenting with plot types and subsets of data\n",
    "\n",
    "By changing the value of the `kind=` parameter for `.plot`, we can experiment with different plot types to see which is best suited to a comparison. \n",
    "\n",
    "We can also use pandas methods to select a particular range of data to focus on in a plot. \n",
    "\n",
    "In this example, we focus on the people represented in the maps collection. We can sort the value counts in ascending order to produce a legible curve. \n",
    "\n",
    "If we want to focus on a smaller set within the group, we can use head() to focus on the most-represented names.  \n"
   ]
  },
  {
   "cell_type": "code",
   "execution_count": 52,
   "metadata": {
    "scrolled": true
   },
   "outputs": [
    {
     "data": {
      "text/plain": [
       "<matplotlib.axes._subplots.AxesSubplot at 0x1d33e534160>"
      ]
     },
     "execution_count": 52,
     "metadata": {},
     "output_type": "execute_result"
    },
    {
     "data": {
      "image/png": "[encoded data removed]",
      "text/plain": [
       "<Figure size 432x288 with 1 Axes>"
      ]
     },
     "metadata": {
      "needs_background": "light"
     },
     "output_type": "display_data"
    }
   ],
   "source": [
    "# create a horizontal bar graph for the Subjects Name counts in maps collection \n",
    "\n",
    "maps.groupby(['Subject Name']).Title.count().sort_values(ascending=False).plot(kind='barh')"
   ]
  },
  {
   "cell_type": "code",
   "execution_count": 53,
   "metadata": {},
   "outputs": [
    {
     "data": {
      "text/plain": [
       "<matplotlib.axes._subplots.AxesSubplot at 0x1d33e69f048>"
      ]
     },
     "execution_count": 53,
     "metadata": {},
     "output_type": "execute_result"
    },
    {
     "data": {
      "image/png": "[encoded data removed]",
      "text/plain": [
       "<Figure size 576x432 with 1 Axes>"
      ]
     },
     "metadata": {
      "needs_background": "light"
     },
     "output_type": "display_data"
    }
   ],
   "source": [
    "# limit the barh graph to top 5 values\n",
    "\n",
    "maps.groupby(['Subject Name']).Title.count().sort_values(ascending=False).head().plot(kind='barh', figsize=(8,6))"
   ]
  },
  {
   "cell_type": "markdown",
   "metadata": {},
   "source": [
    "#### Represent the same data as a pie plot\n",
    "\n",
    "Again changing the `kind=` parameter for `.plot` generates a different view of the same selection from the data. "
   ]
  },
  {
   "cell_type": "code",
   "execution_count": 54,
   "metadata": {},
   "outputs": [
    {
     "data": {
      "text/plain": [
       "Text(0, 0.5, '')"
      ]
     },
     "execution_count": 54,
     "metadata": {},
     "output_type": "execute_result"
    },
    {
     "data": {
      "image/png": "[encoded data removed]",
      "text/plain": [
       "<Figure size 576x576 with 1 Axes>"
      ]
     },
     "metadata": {},
     "output_type": "display_data"
    }
   ],
   "source": [
    "# create a pie plot for the Subjects Name counts in maps collection \n",
    "\n",
    "maps.groupby(['Subject Name']).Title.count().sort_values(ascending=False).head().plot(kind='pie', figsize=(8,8),startangle=180)\n",
    "plt.ylabel('')\n",
    "#plt.title(\"Most Common Subject Names in Maps Collection\")"
   ]
  },
  {
   "cell_type": "markdown",
   "metadata": {},
   "source": [
    "#### Other ways to reframe a selection\n",
    "\n",
    "Unsurprisingly, Jeremy Francis Gilmer is the most common name in the Gilmer maps collection. \n",
    "\n",
    "If we wanted to create a plot that excludes this obvious result, we could create a variable to select value counts that focus on a given range that we're more interested in. \n"
   ]
  },
  {
   "cell_type": "code",
   "execution_count": 55,
   "metadata": {},
   "outputs": [
    {
     "data": {
      "text/plain": [
       "Subject Name\n",
       "Gilmer, Jeremy Francis, 1818-1883.;                                                     104\n",
       "Blackford, B. L. (Benjamin Lewis); Gilmer, Jeremy Francis, 1818-1883.;                    9\n",
       "Gilmer, Jeremy Francis, 1818-1883.                                                        6\n",
       "Beauregard, G. T. (Gustave Toutant), 1818-1893.; Gilmer, Jeremy Francis, 1818-1883.;      4\n",
       "Fitz, Newton.; Gilmer, Jeremy Francis, 1818-1883.;                                        4\n",
       "Gilmer, Jeremy Francis, 1818-1883.; Turner, L. C.;                                        4\n",
       "Gilmer, Jeremy Francis, 1818-1883.; Turner, L. C.                                         3\n",
       "Gilmer, Jeremy Francis, 1818-1883.; Henderson, D. E.;                                     3\n",
       "Gilmer, Jeremy Francis, 1818-1883.; Liernur, Charles T.                                   2\n",
       "Gilmer, Jeremy Francis, 1818-1883.; Grant, John, Captain.;                                2\n",
       "Name: Title, dtype: int64"
      ]
     },
     "execution_count": 55,
     "metadata": {},
     "output_type": "execute_result"
    }
   ],
   "source": [
    "# group maps by Subject Name, counting Titles, view top n\n",
    "\n",
    "maps.groupby(['Subject Name']).Title.count().sort_values(ascending=False).head(10)"
   ]
  },
  {
   "cell_type": "code",
   "execution_count": 56,
   "metadata": {},
   "outputs": [
    {
     "data": {
      "text/plain": [
       "Text(0, 0.5, '')"
      ]
     },
     "execution_count": 56,
     "metadata": {},
     "output_type": "execute_result"
    },
    {
     "data": {
      "image/png": "[encoded data removed]",
      "text/plain": [
       "<Figure size 576x576 with 1 Axes>"
      ]
     },
     "metadata": {},
     "output_type": "display_data"
    }
   ],
   "source": [
    "# create a variable that specifies a range to examine\n",
    "# exclude the most-common heading to focus on the next seven values\n",
    "# create a pie plot from result\n",
    "\n",
    "subcounts=maps['Subject Name'].value_counts()\n",
    "\n",
    "totals=subcounts[(subcounts <= 103) & (subcounts>2)]\n",
    "\n",
    "totals.sort_values(ascending=False).plot(kind='pie', figsize=(8,8),startangle=90)\n",
    "plt.ylabel('')"
   ]
  },
  {
   "cell_type": "markdown",
   "metadata": {},
   "source": [
    "### Recap of Metadata Example 2 \n",
    "\n",
    "In this example, we selected relevant fields from across separate datasheets and combined the data for comparison, using simple plots to assess collections visually. \n",
    "\n",
    "**summary of this example:**\n",
    "\n",
    "* use a variable to select a set of columns from multiple datasets \n",
    "* create a new column and add data\n",
    "* concatenate separate data into a single dataframe\n",
    "* organize datasets for comparison with groupby \n",
    "* compare datasets visually using basic graphs\n",
    "* explore different graph formats according to data attributes\n"
   ]
  },
  {
   "cell_type": "markdown",
   "metadata": {},
   "source": [
    "### Exercise 4: Evaluate values in a subject field in the maps collection<a name=\"ex4\"></a>\n",
    "\n",
    "\n",
    "In this exercise, we will take a closer look at values in the 'Subject Topical' field in the Maps collection. \n",
    "\n",
    "Based on the output below from maps.info(), it looks like the Subject Topical field is fairly complete in this collection. \n",
    "\n",
    "```\n",
    "maps.info()\n",
    "```\n",
    "\n",
    "```\n",
    "RangeIndex: 161 entries, 0 to 160\n",
    "Data columns (total 7 columns):\n",
    "Title                 161 non-null object\n",
    "Date                  161 non-null object\n",
    "Subject Topical       161 non-null object\n",
    "Subject Name          161 non-null object\n",
    "Subject Geographic    161 non-null object\n",
    "Usage Rights          0 non-null float64\n",
    "colname               161 non-null object\n",
    "```\n",
    "Try using the describe() method to get more details about the values represented within the 'Subject Topical' field. \n",
    "\n",
    "Would plotting the maps titles according to 'Subject Topical' fields assigned to them make an interesting graph? \n",
    "\n",
    "**To answer this question, add and run code into the empty code cells below to:**  \n",
    "\n",
    "* check the output from describe() for the maps dataframe\n",
    "* and to generate a plot for numbers of maps titles grouped by Subject Topical. \n",
    "\n",
    "---\n",
    "\n",
    "Here is code that you can paste into the empty code cells, (or feel free to type in the code!)\n",
    "\n",
    "1. check the output from describe() for the maps dataframe\n",
    "\n",
    "```\n",
    "\n",
    "# use describe() to evaluate the contents of the 'Subject Topical' field\n",
    "maps['Subject Topical'].describe()\n",
    "\n",
    "```\n",
    "\n",
    "\n",
    "2. generate a plot for numbers of maps titles grouped by Subject Topical. \n",
    "\n",
    "```\n",
    "\n",
    "# generate a plot for the distribution of Subject Topical field across titles\n",
    "maps.groupby(['Subject Topical']).Title.count().plot(kind='barh',color=['grey'])\n",
    "plt.xlabel('item count')\n",
    "\n",
    "\n",
    "```\n",
    "\n",
    "For reference, the solution is also demonstrated in the next set of cells below. \n"
   ]
  },
  {
   "cell_type": "markdown",
   "metadata": {},
   "source": [
    "### Use these empty code cells for the exercise: "
   ]
  },
  {
   "cell_type": "code",
   "execution_count": null,
   "metadata": {},
   "outputs": [],
   "source": []
  },
  {
   "cell_type": "code",
   "execution_count": null,
   "metadata": {},
   "outputs": [],
   "source": []
  },
  {
   "cell_type": "code",
   "execution_count": null,
   "metadata": {},
   "outputs": [],
   "source": []
  },
  {
   "cell_type": "code",
   "execution_count": null,
   "metadata": {},
   "outputs": [],
   "source": []
  },
  {
   "cell_type": "markdown",
   "metadata": {},
   "source": [
    "### Solution to Exercise 4: Evaluate Subjects data in a collection"
   ]
  },
  {
   "cell_type": "markdown",
   "metadata": {},
   "source": [
    "The output from `describe()` shows that although every item in this collection has a Subject Topical field, it is all the same value. \n",
    "\n",
    "So, plotting the Title counts for the Subject Topical field does not make a very interesting plot. "
   ]
  },
  {
   "cell_type": "code",
   "execution_count": 57,
   "metadata": {},
   "outputs": [
    {
     "data": {
      "text/plain": [
       "count                                                161\n",
       "unique                                                 1\n",
       "top       United States--History--Civil War, 1861-1865.;\n",
       "freq                                                 161\n",
       "Name: Subject Topical, dtype: object"
      ]
     },
     "execution_count": 57,
     "metadata": {},
     "output_type": "execute_result"
    }
   ],
   "source": [
    "# use describe() to evaluate the contents of the 'Subject Topical' field\n",
    "\n",
    "maps['Subject Topical'].describe()"
   ]
  },
  {
   "cell_type": "code",
   "execution_count": 58,
   "metadata": {},
   "outputs": [
    {
     "data": {
      "text/plain": [
       "Text(0.5, 0, 'item count')"
      ]
     },
     "execution_count": 58,
     "metadata": {},
     "output_type": "execute_result"
    },
    {
     "data": {
      "image/png": "[encoded data removed]",
      "text/plain": [
       "<Figure size 432x288 with 1 Axes>"
      ]
     },
     "metadata": {
      "needs_background": "light"
     },
     "output_type": "display_data"
    }
   ],
   "source": [
    "# generate a plot for the distribution of Subject Topical field across titles\n",
    "\n",
    "maps.groupby(['Subject Topical']).Title.count().plot(kind='barh',color=['grey'])\n",
    "plt.xlabel('item count')"
   ]
  },
  {
   "cell_type": "code",
   "execution_count": 59,
   "metadata": {},
   "outputs": [],
   "source": [
    "# empty code cell - use if needed"
   ]
  },
  {
   "cell_type": "markdown",
   "metadata": {},
   "source": [
    "## Metadata Example 3: Merge information from separate files <a name=\"md3\"></a>\n",
    "\n",
    "Another useful feature of pandas is that it allows you to do SQL-like joins with datasheets.  \n",
    "\n",
    "In this exercise, we will create a merged dataframe from descriptive metadata and file sizes information in separate datasets. \n",
    "\n",
    "We will rename columns in the descriptive metadata dataframe to merge based on columns in our filesizes datasheets.  \n",
    "(It's also possible to specify the columns to merge separately for the left and right dataframes if they are not named the same!)  \n"
   ]
  },
  {
   "cell_type": "markdown",
   "metadata": {},
   "source": [
    "### Learning objectives in this example:  \n",
    "\n",
    "* Review of removing empty columns\n",
    "* Review of datatypes and potential errors, specifying datatypes for columns\n",
    "* Rename columns [pandas.DataFrame.rename](https://pandas.pydata.org/pandas-docs/stable/reference/api/pandas.DataFrame.rename.html)\n",
    "* Merge dataframes [pandas.DataFrame.merge](https://pandas.pydata.org/pandas-docs/stable/reference/api/pandas.DataFrame.merge.html)\n",
    "* Write a dataframe to a csv output file or other format \n"
   ]
  },
  {
   "cell_type": "code",
   "execution_count": 60,
   "metadata": {},
   "outputs": [],
   "source": [
    "# uncomment the import statement below and run this cell if your notebook was reset and you need the libraries again\n",
    "\n",
    "#import pandas as pd"
   ]
  },
  {
   "cell_type": "markdown",
   "metadata": {},
   "source": [
    "### Overview of collections metadata in this example\n",
    "\n",
    "In this example, we have three separate datasheets about various files from a single collection. We are going to combine them into one dataframe by merging on filenames. \n",
    "\n",
    "* descriptive metadata about the items\n",
    "* technical metadata about the access files\n",
    "* technical metadata about the 'master' files\n"
   ]
  },
  {
   "cell_type": "markdown",
   "metadata": {},
   "source": [
    "#### Create dataframe for descriptive metadata\n",
    "\n",
    "As in previous examples, we will create a dataframe and check out its overall size, columns, and value counts."
   ]
  },
  {
   "cell_type": "code",
   "execution_count": 61,
   "metadata": {},
   "outputs": [],
   "source": [
    "# read in collections metadata file as 'metadata' dataframe\n",
    "metadata=pd.read_csv(\"./exampleData/03823_metadata.txt\", sep='\\t')"
   ]
  },
  {
   "cell_type": "code",
   "execution_count": 62,
   "metadata": {
    "scrolled": true
   },
   "outputs": [
    {
     "name": "stdout",
     "output_type": "stream",
     "text": [
      "(5777, 60)\n"
     ]
    }
   ],
   "source": [
    "# use shape attribute to summarize rows and columns.\n",
    "\n",
    "print(metadata.shape)"
   ]
  },
  {
   "cell_type": "code",
   "execution_count": 63,
   "metadata": {},
   "outputs": [
    {
     "name": "stdout",
     "output_type": "stream",
     "text": [
      "<class 'pandas.core.frame.DataFrame'>\n",
      "RangeIndex: 5777 entries, 0 to 5776\n",
      "Data columns (total 60 columns):\n",
      "Collection in Repository                   5777 non-null object\n",
      "Collection Number                          5777 non-null int64\n",
      "Location in Collection                     5777 non-null object\n",
      "Object                                     5777 non-null object\n",
      "Container Type                             5777 non-null object\n",
      "filename                                   5777 non-null object\n",
      "Title                                      0 non-null float64\n",
      "Alternative Title                          0 non-null float64\n",
      "Creator                                    0 non-null float64\n",
      "Contributor                                0 non-null float64\n",
      "Creation Date                              0 non-null float64\n",
      "Date                                       0 non-null float64\n",
      "Description                                0 non-null float64\n",
      "Subject (tgm)                              0 non-null float64\n",
      "Subject - Name                             0 non-null float64\n",
      "Subject - Topical                          0 non-null float64\n",
      "Subject - Geographic                       0 non-null float64\n",
      "Subject Topical Other                      0 non-null float64\n",
      "Coordinates                                0 non-null float64\n",
      "geonamesid                                 0 non-null float64\n",
      "Digital Collection                         0 non-null float64\n",
      "Repository                                 0 non-null float64\n",
      "Host                                       0 non-null float64\n",
      "Usage Rights                               5777 non-null object\n",
      "Copyright Holder                           0 non-null float64\n",
      "Additional Display                         0 non-null float64\n",
      "Transcription                              0 non-null float64\n",
      "Caption                                    0 non-null float64\n",
      "Notes                                      0 non-null float64\n",
      "Title Note                                 0 non-null float64\n",
      "Contributor Note                           0 non-null float64\n",
      "Sponsor                                    0 non-null float64\n",
      "Related Resource                           0 non-null float64\n",
      "Author Chief Source                        0 non-null float64\n",
      "Publisher                                  0 non-null float64\n",
      "Place of Publication                       0 non-null float64\n",
      "Cataloging Agency                          0 non-null float64\n",
      "Is Part Of                                 0 non-null float64\n",
      "Has Part Of                                0 non-null float64\n",
      "Form                                       0 non-null float64\n",
      "Resource Type                              0 non-null float64\n",
      "Medium                                     0 non-null float64\n",
      "Condition                                  0 non-null float64\n",
      "Language                                   0 non-null float64\n",
      "Physical Description of Analog Original    0 non-null float64\n",
      "Creator Nationality/Culture                0 non-null float64\n",
      "Style/Period                               0 non-null float64\n",
      "Volume/Issue                               0 non-null float64\n",
      "Scale                                      0 non-null float64\n",
      "Projection                                 0 non-null float64\n",
      "Map Type                                   0 non-null float64\n",
      "Map Details                                0 non-null float64\n",
      "Current Location                           0 non-null float64\n",
      "path                                       0 non-null float64\n",
      "Local Identifier                           0 non-null float64\n",
      "Creator Identifier                         0 non-null float64\n",
      "Date created                               5777 non-null object\n",
      "Date modified                              5777 non-null object\n",
      "Object number                              5777 non-null int64\n",
      "Object file name                           5777 non-null object\n",
      "dtypes: float64(49), int64(2), object(9)\n",
      "memory usage: 2.6+ MB\n"
     ]
    }
   ],
   "source": [
    "# use the info method to see column names and item counts in each column\n",
    "\n",
    "metadata.info()"
   ]
  },
  {
   "cell_type": "markdown",
   "metadata": {},
   "source": [
    "#### Fix datatype for collection number and drop empty columns\n",
    "\n",
    "This collection has a ton of empty fields, so we will again drop unused columns.  \n",
    "\n",
    "Also note that as in the exercise above, 'Collection Number' is getting cast as an `int64` datatype. \n",
    "\n",
    "We will fix this by re-creating the dataframe, specifying `object` datatype for this column. "
   ]
  },
  {
   "cell_type": "code",
   "execution_count": 64,
   "metadata": {},
   "outputs": [
    {
     "data": {
      "text/plain": [
       "0    3823\n",
       "1    3823\n",
       "2    3823\n",
       "3    3823\n",
       "4    3823\n",
       "5    3823\n",
       "6    3823\n",
       "7    3823\n",
       "Name: Collection Number, dtype: int64"
      ]
     },
     "execution_count": 64,
     "metadata": {},
     "output_type": "execute_result"
    }
   ],
   "source": [
    "# inspect first n values of Collection Number column \n",
    "\n",
    "metadata['Collection Number'].head(8)"
   ]
  },
  {
   "cell_type": "code",
   "execution_count": 65,
   "metadata": {},
   "outputs": [
    {
     "data": {
      "text/plain": [
       "0    03823\n",
       "1    03823\n",
       "2    03823\n",
       "3    03823\n",
       "4    03823\n",
       "5    03823\n",
       "6    03823\n",
       "7    03823\n",
       "Name: Collection Number, dtype: object"
      ]
     },
     "execution_count": 65,
     "metadata": {},
     "output_type": "execute_result"
    }
   ],
   "source": [
    "# re-create data frame specifying 'object' datatype for Collection Number column\n",
    "\n",
    "# take another look at first n values of Colection Number column\n",
    "\n",
    "metadata=pd.read_csv(\"./exampleData/03823_metadata.txt\", sep='\\t', dtype={'Collection Number':object})\n",
    "\n",
    "metadata['Collection Number'].head(8)"
   ]
  },
  {
   "cell_type": "code",
   "execution_count": 66,
   "metadata": {},
   "outputs": [
    {
     "name": "stdout",
     "output_type": "stream",
     "text": [
      "<class 'pandas.core.frame.DataFrame'>\n",
      "RangeIndex: 5777 entries, 0 to 5776\n",
      "Data columns (total 11 columns):\n",
      "Collection in Repository    5777 non-null object\n",
      "Collection Number           5777 non-null object\n",
      "Location in Collection      5777 non-null object\n",
      "Object                      5777 non-null object\n",
      "Container Type              5777 non-null object\n",
      "filename                    5777 non-null object\n",
      "Usage Rights                5777 non-null object\n",
      "Date created                5777 non-null object\n",
      "Date modified               5777 non-null object\n",
      "Object number               5777 non-null int64\n",
      "Object file name            5777 non-null object\n",
      "dtypes: int64(1), object(10)\n",
      "memory usage: 496.5+ KB\n"
     ]
    }
   ],
   "source": [
    "# Remove the empty columns using dropna\n",
    "\n",
    "# and re-check the column names and item counts by re-running the info method on the reshaped dataset.\n",
    "\n",
    "metadata.dropna(axis = 1, how ='all', inplace = True)\n",
    "\n",
    "metadata.info()"
   ]
  },
  {
   "cell_type": "markdown",
   "metadata": {},
   "source": [
    "#### Identify which field to merge with Access Files\n",
    "\n",
    "We will take a look at a few rows to see which field has the filenames we are matching to access files. "
   ]
  },
  {
   "cell_type": "code",
   "execution_count": 67,
   "metadata": {},
   "outputs": [
    {
     "data": {
      "text/html": [
       "<div>\n",
       "<style scoped>\n",
       "    .dataframe tbody tr th:only-of-type {\n",
       "        vertical-align: middle;\n",
       "    }\n",
       "\n",
       "    .dataframe tbody tr th {\n",
       "        vertical-align: top;\n",
       "    }\n",
       "\n",
       "    .dataframe thead th {\n",
       "        text-align: right;\n",
       "    }\n",
       "</style>\n",
       "<table border=\"1\" class=\"dataframe\">\n",
       "  <thead>\n",
       "    <tr style=\"text-align: right;\">\n",
       "      <th></th>\n",
       "      <th>Collection in Repository</th>\n",
       "      <th>Collection Number</th>\n",
       "      <th>Location in Collection</th>\n",
       "      <th>Object</th>\n",
       "      <th>Container Type</th>\n",
       "      <th>filename</th>\n",
       "      <th>Usage Rights</th>\n",
       "      <th>Date created</th>\n",
       "      <th>Date modified</th>\n",
       "      <th>Object number</th>\n",
       "      <th>Object file name</th>\n",
       "    </tr>\n",
       "  </thead>\n",
       "  <tbody>\n",
       "    <tr>\n",
       "      <th>0</th>\n",
       "      <td>North Carolina Commission on Interracial Coope...</td>\n",
       "      <td>03823</td>\n",
       "      <td>Series 1. Correspondence, 1922-1949. / Subseri...</td>\n",
       "      <td>Folder 20: Correspondence, 1947-1948: Scan 9</td>\n",
       "      <td>folder</td>\n",
       "      <td>03823_0020_0009.tif</td>\n",
       "      <td>For copyright information or permissions quest...</td>\n",
       "      <td>2012-01-26</td>\n",
       "      <td>2012-01-26</td>\n",
       "      <td>0</td>\n",
       "      <td>231.jp2</td>\n",
       "    </tr>\n",
       "    <tr>\n",
       "      <th>1</th>\n",
       "      <td>North Carolina Commission on Interracial Coope...</td>\n",
       "      <td>03823</td>\n",
       "      <td>Series 1. Correspondence, 1922-1949. / Subseri...</td>\n",
       "      <td>Folder 21: Correspondence, 1947-1948: Scan 17</td>\n",
       "      <td>folder</td>\n",
       "      <td>03823_0021_0017.tif</td>\n",
       "      <td>For copyright information or permissions quest...</td>\n",
       "      <td>2012-01-26</td>\n",
       "      <td>2012-01-26</td>\n",
       "      <td>1</td>\n",
       "      <td>430.jp2</td>\n",
       "    </tr>\n",
       "    <tr>\n",
       "      <th>2</th>\n",
       "      <td>North Carolina Commission on Interracial Coope...</td>\n",
       "      <td>03823</td>\n",
       "      <td>Series 1. Correspondence, 1922-1949. / Subseri...</td>\n",
       "      <td>Folder 9: Correspondence, 1943: Scan 1</td>\n",
       "      <td>folder</td>\n",
       "      <td>03823_0009_0001.tif</td>\n",
       "      <td>For copyright information or permissions quest...</td>\n",
       "      <td>2012-01-26</td>\n",
       "      <td>2012-01-26</td>\n",
       "      <td>2</td>\n",
       "      <td>909.jp2</td>\n",
       "    </tr>\n",
       "    <tr>\n",
       "      <th>3</th>\n",
       "      <td>North Carolina Commission on Interracial Coope...</td>\n",
       "      <td>03823</td>\n",
       "      <td>Series 1. Correspondence, 1922-1949. / Subseri...</td>\n",
       "      <td>Folder 17: Correspondence, 1947-1948: Scan 16</td>\n",
       "      <td>folder</td>\n",
       "      <td>03823_0017_0016.tif</td>\n",
       "      <td>For copyright information or permissions quest...</td>\n",
       "      <td>2012-01-26</td>\n",
       "      <td>2012-01-26</td>\n",
       "      <td>3</td>\n",
       "      <td>59.jp2</td>\n",
       "    </tr>\n",
       "    <tr>\n",
       "      <th>4</th>\n",
       "      <td>North Carolina Commission on Interracial Coope...</td>\n",
       "      <td>03823</td>\n",
       "      <td>Series 1. Correspondence, 1922-1949. / Subseri...</td>\n",
       "      <td>Folder 12: Correspondence, 1944-May 1946: Scan 44</td>\n",
       "      <td>folder</td>\n",
       "      <td>03823_0012_0044.tif</td>\n",
       "      <td>For copyright information or permissions quest...</td>\n",
       "      <td>2012-01-26</td>\n",
       "      <td>2012-01-26</td>\n",
       "      <td>4</td>\n",
       "      <td>152.jp2</td>\n",
       "    </tr>\n",
       "  </tbody>\n",
       "</table>\n",
       "</div>"
      ],
      "text/plain": [
       "                            Collection in Repository Collection Number  \\\n",
       "0  North Carolina Commission on Interracial Coope...             03823   \n",
       "1  North Carolina Commission on Interracial Coope...             03823   \n",
       "2  North Carolina Commission on Interracial Coope...             03823   \n",
       "3  North Carolina Commission on Interracial Coope...             03823   \n",
       "4  North Carolina Commission on Interracial Coope...             03823   \n",
       "\n",
       "                              Location in Collection  \\\n",
       "0  Series 1. Correspondence, 1922-1949. / Subseri...   \n",
       "1  Series 1. Correspondence, 1922-1949. / Subseri...   \n",
       "2  Series 1. Correspondence, 1922-1949. / Subseri...   \n",
       "3  Series 1. Correspondence, 1922-1949. / Subseri...   \n",
       "4  Series 1. Correspondence, 1922-1949. / Subseri...   \n",
       "\n",
       "                                              Object Container Type  \\\n",
       "0       Folder 20: Correspondence, 1947-1948: Scan 9         folder   \n",
       "1      Folder 21: Correspondence, 1947-1948: Scan 17         folder   \n",
       "2             Folder 9: Correspondence, 1943: Scan 1         folder   \n",
       "3      Folder 17: Correspondence, 1947-1948: Scan 16         folder   \n",
       "4  Folder 12: Correspondence, 1944-May 1946: Scan 44         folder   \n",
       "\n",
       "              filename                                       Usage Rights  \\\n",
       "0  03823_0020_0009.tif  For copyright information or permissions quest...   \n",
       "1  03823_0021_0017.tif  For copyright information or permissions quest...   \n",
       "2  03823_0009_0001.tif  For copyright information or permissions quest...   \n",
       "3  03823_0017_0016.tif  For copyright information or permissions quest...   \n",
       "4  03823_0012_0044.tif  For copyright information or permissions quest...   \n",
       "\n",
       "  Date created Date modified  Object number Object file name  \n",
       "0   2012-01-26    2012-01-26              0          231.jp2  \n",
       "1   2012-01-26    2012-01-26              1          430.jp2  \n",
       "2   2012-01-26    2012-01-26              2          909.jp2  \n",
       "3   2012-01-26    2012-01-26              3           59.jp2  \n",
       "4   2012-01-26    2012-01-26              4          152.jp2  "
      ]
     },
     "execution_count": 67,
     "metadata": {},
     "output_type": "execute_result"
    }
   ],
   "source": [
    "#Use the head method to see the first n rows\n",
    "\n",
    "metadata.head()"
   ]
  },
  {
   "cell_type": "markdown",
   "metadata": {},
   "source": [
    "#### Create access files dataframe \n",
    "\n",
    "Now we'll create a dataframe from our access files datasheet, checking information about the column labels and values. "
   ]
  },
  {
   "cell_type": "code",
   "execution_count": 68,
   "metadata": {},
   "outputs": [],
   "source": [
    "#Create the second dataframe with the access files datasheet\n",
    "\n",
    "accfiles=pd.read_csv(\"./exampleData/03823_access_images.csv\")"
   ]
  },
  {
   "cell_type": "code",
   "execution_count": 69,
   "metadata": {},
   "outputs": [
    {
     "name": "stdout",
     "output_type": "stream",
     "text": [
      "<class 'pandas.core.frame.DataFrame'>\n",
      "RangeIndex: 11554 entries, 0 to 11553\n",
      "Data columns (total 6 columns):\n",
      "Name                    11554 non-null object\n",
      "Full Path               11554 non-null object\n",
      "Size                    11554 non-null object\n",
      "Files                   11554 non-null int64\n",
      "Dir Level (Relative)    11554 non-null int64\n",
      "Extension               11554 non-null object\n",
      "dtypes: int64(2), object(4)\n",
      "memory usage: 541.7+ KB\n"
     ]
    }
   ],
   "source": [
    "# use the info method to see column names and item counts in each column\n",
    "\n",
    "accfiles.info()"
   ]
  },
  {
   "cell_type": "markdown",
   "metadata": {},
   "source": [
    "#### Select relevant columns and rename them for clarity\n",
    "\n",
    "We only need Name, Full Path, and file size information from this sheet, so we will re-create our dataframe using only these fields. \n",
    "\n",
    "We will also rename fields to identify data about access files in the merged sheet. \n"
   ]
  },
  {
   "cell_type": "code",
   "execution_count": 70,
   "metadata": {},
   "outputs": [],
   "source": [
    "#Create the second dataframe with the access files datasheet\n",
    "\n",
    "accfiles=pd.read_csv(\"./exampleData/03823_access_images.csv\", usecols=['Name','Full Path', 'Size'])\n",
    "\n",
    "accfiles.rename(columns={'Name':'AccessName', 'Full Path':'AccessFilePath', 'Size' : 'AccessFileSize'}, inplace=True)"
   ]
  },
  {
   "cell_type": "markdown",
   "metadata": {},
   "source": [
    "#### Re-check acccess files sheet \n",
    "\n",
    "The dataframe now has only relevant columns, labelled so that they are identifiable as access files. "
   ]
  },
  {
   "cell_type": "code",
   "execution_count": 71,
   "metadata": {},
   "outputs": [
    {
     "name": "stdout",
     "output_type": "stream",
     "text": [
      "(11554, 3)\n",
      "<class 'pandas.core.frame.DataFrame'>\n",
      "RangeIndex: 11554 entries, 0 to 11553\n",
      "Data columns (total 3 columns):\n",
      "AccessName        11554 non-null object\n",
      "AccessFilePath    11554 non-null object\n",
      "AccessFileSize    11554 non-null object\n",
      "dtypes: object(3)\n",
      "memory usage: 270.9+ KB\n"
     ]
    }
   ],
   "source": [
    "# Use shape and info to take a look at the accfiles dataframe.\n",
    "\n",
    "print(accfiles.shape) \n",
    "\n",
    "accfiles.info()"
   ]
  },
  {
   "cell_type": "markdown",
   "metadata": {},
   "source": [
    "#### View data in the field to merge  \n",
    "\n",
    "The AccessName field has the filenames that will be merged with the descriptive metadata. \n"
   ]
  },
  {
   "cell_type": "code",
   "execution_count": 72,
   "metadata": {},
   "outputs": [
    {
     "data": {
      "text/html": [
       "<div>\n",
       "<style scoped>\n",
       "    .dataframe tbody tr th:only-of-type {\n",
       "        vertical-align: middle;\n",
       "    }\n",
       "\n",
       "    .dataframe tbody tr th {\n",
       "        vertical-align: top;\n",
       "    }\n",
       "\n",
       "    .dataframe thead th {\n",
       "        text-align: right;\n",
       "    }\n",
       "</style>\n",
       "<table border=\"1\" class=\"dataframe\">\n",
       "  <thead>\n",
       "    <tr style=\"text-align: right;\">\n",
       "      <th></th>\n",
       "      <th>AccessName</th>\n",
       "      <th>AccessFilePath</th>\n",
       "      <th>AccessFileSize</th>\n",
       "    </tr>\n",
       "  </thead>\n",
       "  <tbody>\n",
       "    <tr>\n",
       "      <th>0</th>\n",
       "      <td>1.jp2</td>\n",
       "      <td>Content/03823/image/1.jp2</td>\n",
       "      <td>7207888 Bytes</td>\n",
       "    </tr>\n",
       "    <tr>\n",
       "      <th>1</th>\n",
       "      <td>2.jp2</td>\n",
       "      <td>Content/03823/image/2.jp2</td>\n",
       "      <td>5707680 Bytes</td>\n",
       "    </tr>\n",
       "    <tr>\n",
       "      <th>2</th>\n",
       "      <td>3.jp2</td>\n",
       "      <td>Content/03823/image/3.jp2</td>\n",
       "      <td>1364563 Bytes</td>\n",
       "    </tr>\n",
       "    <tr>\n",
       "      <th>3</th>\n",
       "      <td>4.jp2</td>\n",
       "      <td>Content/03823/image/4.jp2</td>\n",
       "      <td>9339767 Bytes</td>\n",
       "    </tr>\n",
       "    <tr>\n",
       "      <th>4</th>\n",
       "      <td>5.jp2</td>\n",
       "      <td>Content/03823/image/5.jp2</td>\n",
       "      <td>9021190 Bytes</td>\n",
       "    </tr>\n",
       "  </tbody>\n",
       "</table>\n",
       "</div>"
      ],
      "text/plain": [
       "  AccessName             AccessFilePath AccessFileSize\n",
       "0      1.jp2  Content/03823/image/1.jp2  7207888 Bytes\n",
       "1      2.jp2  Content/03823/image/2.jp2  5707680 Bytes\n",
       "2      3.jp2  Content/03823/image/3.jp2  1364563 Bytes\n",
       "3      4.jp2  Content/03823/image/4.jp2  9339767 Bytes\n",
       "4      5.jp2  Content/03823/image/5.jp2  9021190 Bytes"
      ]
     },
     "execution_count": 72,
     "metadata": {},
     "output_type": "execute_result"
    }
   ],
   "source": [
    "#Use the head method to see the first n rows of a column\n",
    "\n",
    "accfiles.head()"
   ]
  },
  {
   "cell_type": "markdown",
   "metadata": {},
   "source": [
    "#### Rename column and merge files  \n",
    "\n",
    "To simpify the merge, we will rename the field in the metadata sheet to \"AccessName\". \n",
    "\n",
    "Then we perform a left merge, matching access files to filenames in the metadata dataframe.   \n"
   ]
  },
  {
   "cell_type": "code",
   "execution_count": 73,
   "metadata": {},
   "outputs": [
    {
     "data": {
      "text/plain": [
       "Index(['Collection in Repository', 'Collection Number',\n",
       "       'Location in Collection', 'Object', 'Container Type', 'filename',\n",
       "       'Usage Rights', 'Date created', 'Date modified', 'Object number',\n",
       "       'AccessName'],\n",
       "      dtype='object')"
      ]
     },
     "execution_count": 73,
     "metadata": {},
     "output_type": "execute_result"
    }
   ],
   "source": [
    "# Rename a column in 'metadata' dataframe\n",
    "\n",
    "metadata.rename(columns={'Object file name':'AccessName'}, inplace=True)\n",
    "metadata.columns"
   ]
  },
  {
   "cell_type": "code",
   "execution_count": 74,
   "metadata": {},
   "outputs": [
    {
     "name": "stdout",
     "output_type": "stream",
     "text": [
      "<class 'pandas.core.frame.DataFrame'>\n",
      "Int64Index: 5777 entries, 0 to 5776\n",
      "Data columns (total 13 columns):\n",
      "Collection in Repository    5777 non-null object\n",
      "Collection Number           5777 non-null object\n",
      "Location in Collection      5777 non-null object\n",
      "Object                      5777 non-null object\n",
      "Container Type              5777 non-null object\n",
      "filename                    5777 non-null object\n",
      "Usage Rights                5777 non-null object\n",
      "Date created                5777 non-null object\n",
      "Date modified               5777 non-null object\n",
      "Object number               5777 non-null int64\n",
      "AccessName                  5777 non-null object\n",
      "AccessFilePath              5777 non-null object\n",
      "AccessFileSize              5777 non-null object\n",
      "dtypes: int64(1), object(12)\n",
      "memory usage: 631.9+ KB\n"
     ]
    }
   ],
   "source": [
    "# Join access files data onto the metadata dataframe\n",
    "\n",
    "combined = pd.merge(metadata, accfiles,on='AccessName', how='left')\n",
    "\n",
    "# and view info for the merged dataframe\n",
    "\n",
    "combined.info()"
   ]
  },
  {
   "cell_type": "markdown",
   "metadata": {},
   "source": [
    "#### Use string replace to clean up file sizes \n",
    "\n",
    "Notice in the info() output above that 'AccessFileSize' column has datatype 'object'. \n",
    "\n",
    "This is because the units are included in the values for this column!    \n",
    "\n",
    "We can use Python's string replace method to get rid of these, and create a new column, 'AccessSizeNum', with datatype of integer. "
   ]
  },
  {
   "cell_type": "code",
   "execution_count": 75,
   "metadata": {},
   "outputs": [
    {
     "data": {
      "text/plain": [
       "0     8524803 Bytes\n",
       "1    10099338 Bytes\n",
       "2     5920711 Bytes\n",
       "3     5291542 Bytes\n",
       "4     1746399 Bytes\n",
       "5     7633196 Bytes\n",
       "6     4772963 Bytes\n",
       "7    10301523 Bytes\n",
       "Name: AccessFileSize, dtype: object"
      ]
     },
     "execution_count": 75,
     "metadata": {},
     "output_type": "execute_result"
    }
   ],
   "source": [
    "# check first n values of column with head()\n",
    "\n",
    "combined.AccessFileSize.head(8)"
   ]
  },
  {
   "cell_type": "code",
   "execution_count": 76,
   "metadata": {},
   "outputs": [
    {
     "name": "stdout",
     "output_type": "stream",
     "text": [
      "<class 'pandas.core.frame.DataFrame'>\n",
      "Int64Index: 5777 entries, 0 to 5776\n",
      "Data columns (total 14 columns):\n",
      "Collection in Repository    5777 non-null object\n",
      "Collection Number           5777 non-null object\n",
      "Location in Collection      5777 non-null object\n",
      "Object                      5777 non-null object\n",
      "Container Type              5777 non-null object\n",
      "filename                    5777 non-null object\n",
      "Usage Rights                5777 non-null object\n",
      "Date created                5777 non-null object\n",
      "Date modified               5777 non-null object\n",
      "Object number               5777 non-null int64\n",
      "AccessName                  5777 non-null object\n",
      "AccessFilePath              5777 non-null object\n",
      "AccessFileSize              5777 non-null object\n",
      "AccessSizeNum               5777 non-null int64\n",
      "dtypes: int64(2), object(12)\n",
      "memory usage: 677.0+ KB\n"
     ]
    }
   ],
   "source": [
    "# create new AccessSizeNum column from AccessFileSize values with ' Bytes' removed\n",
    "\n",
    "combined['AccessSizeNum'] = combined.AccessFileSize.apply(lambda x: x.replace(' Bytes',''))\n",
    "\n",
    "# convert new AccessSizeNum column to datatype 'int64', and check values in dataframe\n",
    "\n",
    "combined=combined.astype({'AccessSizeNum':'int64'})\n",
    "\n",
    "combined.info()"
   ]
  },
  {
   "cell_type": "markdown",
   "metadata": {},
   "source": [
    "#### Create dataframe from masters file data\n",
    "\n",
    "Now we can apply everything we've done with the access files sheet to the masters file sheet. \n",
    "\n",
    "We create a dataframe with relevant columns that we rename as master files-specific, and create a numeric column with file sizes data.\n"
   ]
  },
  {
   "cell_type": "code",
   "execution_count": 77,
   "metadata": {},
   "outputs": [
    {
     "name": "stdout",
     "output_type": "stream",
     "text": [
      "<class 'pandas.core.frame.DataFrame'>\n",
      "RangeIndex: 6044 entries, 0 to 6043\n",
      "Data columns (total 4 columns):\n",
      "MastersName       6044 non-null object\n",
      "MasterFilePath    6044 non-null object\n",
      "MasterFileSize    6044 non-null object\n",
      "MasterSizeNum     6044 non-null int64\n",
      "dtypes: int64(1), object(3)\n",
      "memory usage: 189.0+ KB\n"
     ]
    }
   ],
   "source": [
    "#Create a third dataframe with the masters files datasheet\n",
    "\n",
    "masters=pd.read_csv(\"./exampleData/03823_masters.csv\", usecols=['Name','Full Path', 'Size'])\n",
    "\n",
    "masters.rename(columns={'Name':'MastersName', 'Full Path':'MasterFilePath', 'Size' : 'MasterFileSize'}, inplace=True)\n",
    "\n",
    "masters['MasterSizeNum'] = masters.MasterFileSize.apply(lambda x: x.replace(' Bytes',''))\n",
    "\n",
    "masters=masters.astype({'MasterSizeNum':'int64'})\n",
    "\n",
    "masters.info()"
   ]
  },
  {
   "cell_type": "markdown",
   "metadata": {},
   "source": [
    "#### View data in the fields to merge  \n",
    "\n",
    "The MastersName field has the filenames that will be merged with the descriptive metadata, which is in the 'filename' column in that sheet. "
   ]
  },
  {
   "cell_type": "code",
   "execution_count": 78,
   "metadata": {},
   "outputs": [
    {
     "data": {
      "text/html": [
       "<div>\n",
       "<style scoped>\n",
       "    .dataframe tbody tr th:only-of-type {\n",
       "        vertical-align: middle;\n",
       "    }\n",
       "\n",
       "    .dataframe tbody tr th {\n",
       "        vertical-align: top;\n",
       "    }\n",
       "\n",
       "    .dataframe thead th {\n",
       "        text-align: right;\n",
       "    }\n",
       "</style>\n",
       "<table border=\"1\" class=\"dataframe\">\n",
       "  <thead>\n",
       "    <tr style=\"text-align: right;\">\n",
       "      <th></th>\n",
       "      <th>MastersName</th>\n",
       "      <th>MasterFilePath</th>\n",
       "      <th>MasterFileSize</th>\n",
       "      <th>MasterSizeNum</th>\n",
       "    </tr>\n",
       "  </thead>\n",
       "  <tbody>\n",
       "    <tr>\n",
       "      <th>6039</th>\n",
       "      <td>03823_0046_0005.tif</td>\n",
       "      <td>bucket\\03823_nccic\\03823_0046\\03823_0046_0005.tif</td>\n",
       "      <td>10136638 Bytes</td>\n",
       "      <td>10136638</td>\n",
       "    </tr>\n",
       "    <tr>\n",
       "      <th>6040</th>\n",
       "      <td>03823_0046_0006.tif</td>\n",
       "      <td>bucket\\03823_nccic\\03823_0046\\03823_0046_0006.tif</td>\n",
       "      <td>9620175 Bytes</td>\n",
       "      <td>9620175</td>\n",
       "    </tr>\n",
       "    <tr>\n",
       "      <th>6041</th>\n",
       "      <td>03823_0046_0007.tif</td>\n",
       "      <td>bucket\\03823_nccic\\03823_0046\\03823_0046_0007.tif</td>\n",
       "      <td>9280681 Bytes</td>\n",
       "      <td>9280681</td>\n",
       "    </tr>\n",
       "    <tr>\n",
       "      <th>6042</th>\n",
       "      <td>03823_0046_0008.tif</td>\n",
       "      <td>bucket\\03823_nccic\\03823_0046\\03823_0046_0008.tif</td>\n",
       "      <td>8937930 Bytes</td>\n",
       "      <td>8937930</td>\n",
       "    </tr>\n",
       "    <tr>\n",
       "      <th>6043</th>\n",
       "      <td>03823_0046_0009.tif</td>\n",
       "      <td>bucket\\03823_nccic\\03823_0046\\03823_0046_0009.tif</td>\n",
       "      <td>8409261 Bytes</td>\n",
       "      <td>8409261</td>\n",
       "    </tr>\n",
       "  </tbody>\n",
       "</table>\n",
       "</div>"
      ],
      "text/plain": [
       "              MastersName                                     MasterFilePath  \\\n",
       "6039  03823_0046_0005.tif  bucket\\03823_nccic\\03823_0046\\03823_0046_0005.tif   \n",
       "6040  03823_0046_0006.tif  bucket\\03823_nccic\\03823_0046\\03823_0046_0006.tif   \n",
       "6041  03823_0046_0007.tif  bucket\\03823_nccic\\03823_0046\\03823_0046_0007.tif   \n",
       "6042  03823_0046_0008.tif  bucket\\03823_nccic\\03823_0046\\03823_0046_0008.tif   \n",
       "6043  03823_0046_0009.tif  bucket\\03823_nccic\\03823_0046\\03823_0046_0009.tif   \n",
       "\n",
       "      MasterFileSize  MasterSizeNum  \n",
       "6039  10136638 Bytes       10136638  \n",
       "6040   9620175 Bytes        9620175  \n",
       "6041   9280681 Bytes        9280681  \n",
       "6042   8937930 Bytes        8937930  \n",
       "6043   8409261 Bytes        8409261  "
      ]
     },
     "execution_count": 78,
     "metadata": {},
     "output_type": "execute_result"
    }
   ],
   "source": [
    "masters.tail()"
   ]
  },
  {
   "cell_type": "code",
   "execution_count": 79,
   "metadata": {},
   "outputs": [
    {
     "data": {
      "text/html": [
       "<div>\n",
       "<style scoped>\n",
       "    .dataframe tbody tr th:only-of-type {\n",
       "        vertical-align: middle;\n",
       "    }\n",
       "\n",
       "    .dataframe tbody tr th {\n",
       "        vertical-align: top;\n",
       "    }\n",
       "\n",
       "    .dataframe thead th {\n",
       "        text-align: right;\n",
       "    }\n",
       "</style>\n",
       "<table border=\"1\" class=\"dataframe\">\n",
       "  <thead>\n",
       "    <tr style=\"text-align: right;\">\n",
       "      <th></th>\n",
       "      <th>Collection in Repository</th>\n",
       "      <th>Collection Number</th>\n",
       "      <th>Location in Collection</th>\n",
       "      <th>Object</th>\n",
       "      <th>Container Type</th>\n",
       "      <th>filename</th>\n",
       "      <th>Usage Rights</th>\n",
       "      <th>Date created</th>\n",
       "      <th>Date modified</th>\n",
       "      <th>Object number</th>\n",
       "      <th>AccessName</th>\n",
       "      <th>AccessFilePath</th>\n",
       "      <th>AccessFileSize</th>\n",
       "      <th>AccessSizeNum</th>\n",
       "    </tr>\n",
       "  </thead>\n",
       "  <tbody>\n",
       "    <tr>\n",
       "      <th>0</th>\n",
       "      <td>North Carolina Commission on Interracial Coope...</td>\n",
       "      <td>03823</td>\n",
       "      <td>Series 1. Correspondence, 1922-1949. / Subseri...</td>\n",
       "      <td>Folder 20: Correspondence, 1947-1948: Scan 9</td>\n",
       "      <td>folder</td>\n",
       "      <td>03823_0020_0009.tif</td>\n",
       "      <td>For copyright information or permissions quest...</td>\n",
       "      <td>2012-01-26</td>\n",
       "      <td>2012-01-26</td>\n",
       "      <td>0</td>\n",
       "      <td>231.jp2</td>\n",
       "      <td>Content/03823/image/231.jp2</td>\n",
       "      <td>8524803 Bytes</td>\n",
       "      <td>8524803</td>\n",
       "    </tr>\n",
       "    <tr>\n",
       "      <th>1</th>\n",
       "      <td>North Carolina Commission on Interracial Coope...</td>\n",
       "      <td>03823</td>\n",
       "      <td>Series 1. Correspondence, 1922-1949. / Subseri...</td>\n",
       "      <td>Folder 21: Correspondence, 1947-1948: Scan 17</td>\n",
       "      <td>folder</td>\n",
       "      <td>03823_0021_0017.tif</td>\n",
       "      <td>For copyright information or permissions quest...</td>\n",
       "      <td>2012-01-26</td>\n",
       "      <td>2012-01-26</td>\n",
       "      <td>1</td>\n",
       "      <td>430.jp2</td>\n",
       "      <td>Content/03823/image/430.jp2</td>\n",
       "      <td>10099338 Bytes</td>\n",
       "      <td>10099338</td>\n",
       "    </tr>\n",
       "    <tr>\n",
       "      <th>2</th>\n",
       "      <td>North Carolina Commission on Interracial Coope...</td>\n",
       "      <td>03823</td>\n",
       "      <td>Series 1. Correspondence, 1922-1949. / Subseri...</td>\n",
       "      <td>Folder 9: Correspondence, 1943: Scan 1</td>\n",
       "      <td>folder</td>\n",
       "      <td>03823_0009_0001.tif</td>\n",
       "      <td>For copyright information or permissions quest...</td>\n",
       "      <td>2012-01-26</td>\n",
       "      <td>2012-01-26</td>\n",
       "      <td>2</td>\n",
       "      <td>909.jp2</td>\n",
       "      <td>Content/03823/image/909.jp2</td>\n",
       "      <td>5920711 Bytes</td>\n",
       "      <td>5920711</td>\n",
       "    </tr>\n",
       "    <tr>\n",
       "      <th>3</th>\n",
       "      <td>North Carolina Commission on Interracial Coope...</td>\n",
       "      <td>03823</td>\n",
       "      <td>Series 1. Correspondence, 1922-1949. / Subseri...</td>\n",
       "      <td>Folder 17: Correspondence, 1947-1948: Scan 16</td>\n",
       "      <td>folder</td>\n",
       "      <td>03823_0017_0016.tif</td>\n",
       "      <td>For copyright information or permissions quest...</td>\n",
       "      <td>2012-01-26</td>\n",
       "      <td>2012-01-26</td>\n",
       "      <td>3</td>\n",
       "      <td>59.jp2</td>\n",
       "      <td>Content/03823/image/59.jp2</td>\n",
       "      <td>5291542 Bytes</td>\n",
       "      <td>5291542</td>\n",
       "    </tr>\n",
       "    <tr>\n",
       "      <th>4</th>\n",
       "      <td>North Carolina Commission on Interracial Coope...</td>\n",
       "      <td>03823</td>\n",
       "      <td>Series 1. Correspondence, 1922-1949. / Subseri...</td>\n",
       "      <td>Folder 12: Correspondence, 1944-May 1946: Scan 44</td>\n",
       "      <td>folder</td>\n",
       "      <td>03823_0012_0044.tif</td>\n",
       "      <td>For copyright information or permissions quest...</td>\n",
       "      <td>2012-01-26</td>\n",
       "      <td>2012-01-26</td>\n",
       "      <td>4</td>\n",
       "      <td>152.jp2</td>\n",
       "      <td>Content/03823/image/152.jp2</td>\n",
       "      <td>1746399 Bytes</td>\n",
       "      <td>1746399</td>\n",
       "    </tr>\n",
       "  </tbody>\n",
       "</table>\n",
       "</div>"
      ],
      "text/plain": [
       "                            Collection in Repository Collection Number  \\\n",
       "0  North Carolina Commission on Interracial Coope...             03823   \n",
       "1  North Carolina Commission on Interracial Coope...             03823   \n",
       "2  North Carolina Commission on Interracial Coope...             03823   \n",
       "3  North Carolina Commission on Interracial Coope...             03823   \n",
       "4  North Carolina Commission on Interracial Coope...             03823   \n",
       "\n",
       "                              Location in Collection  \\\n",
       "0  Series 1. Correspondence, 1922-1949. / Subseri...   \n",
       "1  Series 1. Correspondence, 1922-1949. / Subseri...   \n",
       "2  Series 1. Correspondence, 1922-1949. / Subseri...   \n",
       "3  Series 1. Correspondence, 1922-1949. / Subseri...   \n",
       "4  Series 1. Correspondence, 1922-1949. / Subseri...   \n",
       "\n",
       "                                              Object Container Type  \\\n",
       "0       Folder 20: Correspondence, 1947-1948: Scan 9         folder   \n",
       "1      Folder 21: Correspondence, 1947-1948: Scan 17         folder   \n",
       "2             Folder 9: Correspondence, 1943: Scan 1         folder   \n",
       "3      Folder 17: Correspondence, 1947-1948: Scan 16         folder   \n",
       "4  Folder 12: Correspondence, 1944-May 1946: Scan 44         folder   \n",
       "\n",
       "              filename                                       Usage Rights  \\\n",
       "0  03823_0020_0009.tif  For copyright information or permissions quest...   \n",
       "1  03823_0021_0017.tif  For copyright information or permissions quest...   \n",
       "2  03823_0009_0001.tif  For copyright information or permissions quest...   \n",
       "3  03823_0017_0016.tif  For copyright information or permissions quest...   \n",
       "4  03823_0012_0044.tif  For copyright information or permissions quest...   \n",
       "\n",
       "  Date created Date modified  Object number AccessName  \\\n",
       "0   2012-01-26    2012-01-26              0    231.jp2   \n",
       "1   2012-01-26    2012-01-26              1    430.jp2   \n",
       "2   2012-01-26    2012-01-26              2    909.jp2   \n",
       "3   2012-01-26    2012-01-26              3     59.jp2   \n",
       "4   2012-01-26    2012-01-26              4    152.jp2   \n",
       "\n",
       "                AccessFilePath  AccessFileSize  AccessSizeNum  \n",
       "0  Content/03823/image/231.jp2   8524803 Bytes        8524803  \n",
       "1  Content/03823/image/430.jp2  10099338 Bytes       10099338  \n",
       "2  Content/03823/image/909.jp2   5920711 Bytes        5920711  \n",
       "3   Content/03823/image/59.jp2   5291542 Bytes        5291542  \n",
       "4  Content/03823/image/152.jp2   1746399 Bytes        1746399  "
      ]
     },
     "execution_count": 79,
     "metadata": {},
     "output_type": "execute_result"
    }
   ],
   "source": [
    "combined.head()"
   ]
  },
  {
   "cell_type": "markdown",
   "metadata": {},
   "source": [
    "#### Merge the masterfiles info with the combined dataframe\n",
    "\n",
    "As above, we'll rename the column we want to merge to. \n",
    "\n",
    "Then we create a new dataframe that contains data selected from all three of the original files. "
   ]
  },
  {
   "cell_type": "code",
   "execution_count": 80,
   "metadata": {},
   "outputs": [
    {
     "name": "stdout",
     "output_type": "stream",
     "text": [
      "<class 'pandas.core.frame.DataFrame'>\n",
      "Int64Index: 5777 entries, 0 to 5776\n",
      "Data columns (total 14 columns):\n",
      "Collection in Repository    5777 non-null object\n",
      "Collection Number           5777 non-null object\n",
      "Location in Collection      5777 non-null object\n",
      "Object                      5777 non-null object\n",
      "Container Type              5777 non-null object\n",
      "MastersName                 5777 non-null object\n",
      "Usage Rights                5777 non-null object\n",
      "Date created                5777 non-null object\n",
      "Date modified               5777 non-null object\n",
      "Object number               5777 non-null int64\n",
      "AccessName                  5777 non-null object\n",
      "AccessFilePath              5777 non-null object\n",
      "AccessFileSize              5777 non-null object\n",
      "AccessSizeNum               5777 non-null int64\n",
      "dtypes: int64(2), object(12)\n",
      "memory usage: 677.0+ KB\n"
     ]
    }
   ],
   "source": [
    "combined.rename(columns={'filename':'MastersName'}, inplace=True)\n",
    "\n",
    "combined.info()"
   ]
  },
  {
   "cell_type": "code",
   "execution_count": 81,
   "metadata": {},
   "outputs": [
    {
     "name": "stdout",
     "output_type": "stream",
     "text": [
      "<class 'pandas.core.frame.DataFrame'>\n",
      "Int64Index: 5777 entries, 0 to 5776\n",
      "Data columns (total 17 columns):\n",
      "Collection in Repository    5777 non-null object\n",
      "Collection Number           5777 non-null object\n",
      "Location in Collection      5777 non-null object\n",
      "Object                      5777 non-null object\n",
      "Container Type              5777 non-null object\n",
      "MastersName                 5777 non-null object\n",
      "Usage Rights                5777 non-null object\n",
      "Date created                5777 non-null object\n",
      "Date modified               5777 non-null object\n",
      "Object number               5777 non-null int64\n",
      "AccessName                  5777 non-null object\n",
      "AccessFilePath              5777 non-null object\n",
      "AccessFileSize              5777 non-null object\n",
      "AccessSizeNum               5777 non-null int64\n",
      "MasterFilePath              5777 non-null object\n",
      "MasterFileSize              5777 non-null object\n",
      "MasterSizeNum               5777 non-null int64\n",
      "dtypes: int64(3), object(14)\n",
      "memory usage: 812.4+ KB\n"
     ]
    }
   ],
   "source": [
    "all3 = pd.merge(combined, masters,on='MastersName', how='left')\n",
    "\n",
    "all3.info()"
   ]
  },
  {
   "cell_type": "code",
   "execution_count": 82,
   "metadata": {},
   "outputs": [
    {
     "data": {
      "text/html": [
       "<div>\n",
       "<style scoped>\n",
       "    .dataframe tbody tr th:only-of-type {\n",
       "        vertical-align: middle;\n",
       "    }\n",
       "\n",
       "    .dataframe tbody tr th {\n",
       "        vertical-align: top;\n",
       "    }\n",
       "\n",
       "    .dataframe thead th {\n",
       "        text-align: right;\n",
       "    }\n",
       "</style>\n",
       "<table border=\"1\" class=\"dataframe\">\n",
       "  <thead>\n",
       "    <tr style=\"text-align: right;\">\n",
       "      <th></th>\n",
       "      <th>Collection Number</th>\n",
       "      <th>Object</th>\n",
       "      <th>MastersName</th>\n",
       "      <th>AccessName</th>\n",
       "      <th>AccessSizeNum</th>\n",
       "      <th>MasterSizeNum</th>\n",
       "    </tr>\n",
       "  </thead>\n",
       "  <tbody>\n",
       "    <tr>\n",
       "      <th>0</th>\n",
       "      <td>03823</td>\n",
       "      <td>Folder 20: Correspondence, 1947-1948: Scan 9</td>\n",
       "      <td>03823_0020_0009.tif</td>\n",
       "      <td>231.jp2</td>\n",
       "      <td>8524803</td>\n",
       "      <td>23654901</td>\n",
       "    </tr>\n",
       "    <tr>\n",
       "      <th>1</th>\n",
       "      <td>03823</td>\n",
       "      <td>Folder 21: Correspondence, 1947-1948: Scan 17</td>\n",
       "      <td>03823_0021_0017.tif</td>\n",
       "      <td>430.jp2</td>\n",
       "      <td>10099338</td>\n",
       "      <td>20547567</td>\n",
       "    </tr>\n",
       "    <tr>\n",
       "      <th>2</th>\n",
       "      <td>03823</td>\n",
       "      <td>Folder 9: Correspondence, 1943: Scan 1</td>\n",
       "      <td>03823_0009_0001.tif</td>\n",
       "      <td>909.jp2</td>\n",
       "      <td>5920711</td>\n",
       "      <td>20210038</td>\n",
       "    </tr>\n",
       "    <tr>\n",
       "      <th>3</th>\n",
       "      <td>03823</td>\n",
       "      <td>Folder 17: Correspondence, 1947-1948: Scan 16</td>\n",
       "      <td>03823_0017_0016.tif</td>\n",
       "      <td>59.jp2</td>\n",
       "      <td>5291542</td>\n",
       "      <td>19359544</td>\n",
       "    </tr>\n",
       "    <tr>\n",
       "      <th>4</th>\n",
       "      <td>03823</td>\n",
       "      <td>Folder 12: Correspondence, 1944-May 1946: Scan 44</td>\n",
       "      <td>03823_0012_0044.tif</td>\n",
       "      <td>152.jp2</td>\n",
       "      <td>1746399</td>\n",
       "      <td>4526254</td>\n",
       "    </tr>\n",
       "    <tr>\n",
       "      <th>5</th>\n",
       "      <td>03823</td>\n",
       "      <td>Folder 16: Correspondence, 1947-1948: Scan 15</td>\n",
       "      <td>03823_0016_0015.tif</td>\n",
       "      <td>360.jp2</td>\n",
       "      <td>7633196</td>\n",
       "      <td>22851671</td>\n",
       "    </tr>\n",
       "    <tr>\n",
       "      <th>6</th>\n",
       "      <td>03823</td>\n",
       "      <td>Folder 9: Correspondence, 1943: Scan 15</td>\n",
       "      <td>03823_0009_0015.tif</td>\n",
       "      <td>503.jp2</td>\n",
       "      <td>4772963</td>\n",
       "      <td>18935044</td>\n",
       "    </tr>\n",
       "    <tr>\n",
       "      <th>7</th>\n",
       "      <td>03823</td>\n",
       "      <td>Folder 19: Correspondence, 1947-1948: Scan 12</td>\n",
       "      <td>03823_0019_0012.tif</td>\n",
       "      <td>222.jp2</td>\n",
       "      <td>10301523</td>\n",
       "      <td>25278344</td>\n",
       "    </tr>\n",
       "    <tr>\n",
       "      <th>8</th>\n",
       "      <td>03823</td>\n",
       "      <td>Folder 13: Correspondence, August-December 194...</td>\n",
       "      <td>03823_0013_0006.tif</td>\n",
       "      <td>408.jp2</td>\n",
       "      <td>4544632</td>\n",
       "      <td>18302170</td>\n",
       "    </tr>\n",
       "    <tr>\n",
       "      <th>9</th>\n",
       "      <td>03823</td>\n",
       "      <td>Folder 7: Correspondence, 1942: Scan 34</td>\n",
       "      <td>03823_0007_0034.tif</td>\n",
       "      <td>411.jp2</td>\n",
       "      <td>5646702</td>\n",
       "      <td>19838143</td>\n",
       "    </tr>\n",
       "    <tr>\n",
       "      <th>10</th>\n",
       "      <td>03823</td>\n",
       "      <td>Folder 7: Correspondence, 1942: Scan 32</td>\n",
       "      <td>03823_0007_0032.tif</td>\n",
       "      <td>543.jp2</td>\n",
       "      <td>6539003</td>\n",
       "      <td>20964250</td>\n",
       "    </tr>\n",
       "    <tr>\n",
       "      <th>11</th>\n",
       "      <td>03823</td>\n",
       "      <td>Folder 18: Correspondence, 1947-1948: Scan 37</td>\n",
       "      <td>03823_0018_0037.tif</td>\n",
       "      <td>49.jp2</td>\n",
       "      <td>4533313</td>\n",
       "      <td>18280062</td>\n",
       "    </tr>\n",
       "  </tbody>\n",
       "</table>\n",
       "</div>"
      ],
      "text/plain": [
       "   Collection Number                                             Object  \\\n",
       "0              03823       Folder 20: Correspondence, 1947-1948: Scan 9   \n",
       "1              03823      Folder 21: Correspondence, 1947-1948: Scan 17   \n",
       "2              03823             Folder 9: Correspondence, 1943: Scan 1   \n",
       "3              03823      Folder 17: Correspondence, 1947-1948: Scan 16   \n",
       "4              03823  Folder 12: Correspondence, 1944-May 1946: Scan 44   \n",
       "5              03823      Folder 16: Correspondence, 1947-1948: Scan 15   \n",
       "6              03823            Folder 9: Correspondence, 1943: Scan 15   \n",
       "7              03823      Folder 19: Correspondence, 1947-1948: Scan 12   \n",
       "8              03823  Folder 13: Correspondence, August-December 194...   \n",
       "9              03823            Folder 7: Correspondence, 1942: Scan 34   \n",
       "10             03823            Folder 7: Correspondence, 1942: Scan 32   \n",
       "11             03823      Folder 18: Correspondence, 1947-1948: Scan 37   \n",
       "\n",
       "            MastersName AccessName  AccessSizeNum  MasterSizeNum  \n",
       "0   03823_0020_0009.tif    231.jp2        8524803       23654901  \n",
       "1   03823_0021_0017.tif    430.jp2       10099338       20547567  \n",
       "2   03823_0009_0001.tif    909.jp2        5920711       20210038  \n",
       "3   03823_0017_0016.tif     59.jp2        5291542       19359544  \n",
       "4   03823_0012_0044.tif    152.jp2        1746399        4526254  \n",
       "5   03823_0016_0015.tif    360.jp2        7633196       22851671  \n",
       "6   03823_0009_0015.tif    503.jp2        4772963       18935044  \n",
       "7   03823_0019_0012.tif    222.jp2       10301523       25278344  \n",
       "8   03823_0013_0006.tif    408.jp2        4544632       18302170  \n",
       "9   03823_0007_0034.tif    411.jp2        5646702       19838143  \n",
       "10  03823_0007_0032.tif    543.jp2        6539003       20964250  \n",
       "11  03823_0018_0037.tif     49.jp2        4533313       18280062  "
      ]
     },
     "execution_count": 82,
     "metadata": {},
     "output_type": "execute_result"
    }
   ],
   "source": [
    "all3.loc[:,['Collection Number','Object', 'MastersName', 'AccessName', 'AccessSizeNum','MasterSizeNum']].head(12)\n"
   ]
  },
  {
   "cell_type": "markdown",
   "metadata": {},
   "source": [
    "#### Output to a csv file\n",
    "\n",
    "We can write the dataframe to a CSV file, saved to the output folder of this repository. \n",
    "\n",
    "The code below will include all columns. You can also uncomment and run the other line of code in this cell to generate a CSV from a selection of columns. \n"
   ]
  },
  {
   "cell_type": "code",
   "execution_count": 83,
   "metadata": {},
   "outputs": [],
   "source": [
    "# write dataframe to output file \n",
    "\n",
    "all3.to_csv('./output/all3.csv', index=False,encoding='utf-8')\n",
    "\n",
    "# uncomment the line below to select specific columns to write to csv\n",
    "\n",
    "# all3.loc[:,['Collection Number','Object', 'MastersName', 'AccessName', 'AccessSizeNum','MasterSizeNum']].to_csv('./output/all3_selectcolumns.csv', index=False,encoding='utf-8')\n"
   ]
  },
  {
   "cell_type": "markdown",
   "metadata": {},
   "source": [
    "### Recap of Metadata Example 3\n",
    "\n",
    "In this example, we selected and merged data from separate sheets into a single dataframe, from which we selected and output to a CSV file.   \n",
    "\n",
    "**Summary of example:** \n",
    "\n",
    "* review of selecting and renaming columns, converting column datatype\n",
    "* create new dataframe by merging on a column\n",
    "* use string replace in a series \n",
    "* write to csv output file \n"
   ]
  },
  {
   "cell_type": "markdown",
   "metadata": {},
   "source": [
    "###  Exercise 5: Other ways to merge <a name=\"ex5\"></a>"
   ]
  },
  {
   "cell_type": "markdown",
   "metadata": {},
   "source": [
    "#### Investigate access files data, merge to keep extra rows\n",
    "\n",
    "The access files sheet contained more rows than the descriptive metadata file we merged onto. Because we used a left merge, any rows that did not contain an \"AccessName\" matching the descriptive metadata sheet we were merging to were excluded.\n",
    "\n",
    "In this exercise, we will investigate these extra rows and try different options to include them in our merged dataframe. \n",
    "\n",
    "Use methods to answer the following questions: \n",
    "\n",
    "* What are these extra files?\n",
    "* How many more files are there in the accfiles than the metadata dataframe? \n",
    "* How could you change the merge to include all files from accfiles? \n",
    "\n",
    "For creating a new merge, use a new variable name that reflects the merge performed. "
   ]
  },
  {
   "cell_type": "code",
   "execution_count": 84,
   "metadata": {},
   "outputs": [],
   "source": [
    "# empty code cell - use for exercise \n",
    "\n"
   ]
  },
  {
   "cell_type": "code",
   "execution_count": 85,
   "metadata": {},
   "outputs": [],
   "source": [
    "# empty code cell - use for exercise \n",
    "\n"
   ]
  },
  {
   "cell_type": "code",
   "execution_count": 86,
   "metadata": {},
   "outputs": [],
   "source": [
    "# empty code cell - use for exercise \n",
    "\n"
   ]
  },
  {
   "cell_type": "code",
   "execution_count": 87,
   "metadata": {},
   "outputs": [],
   "source": [
    "# empty code cell - use for exercise \n",
    "\n"
   ]
  },
  {
   "cell_type": "markdown",
   "metadata": {},
   "source": [
    "###  Solution to Exercise 5: Other ways to merge"
   ]
  },
  {
   "cell_type": "code",
   "execution_count": 88,
   "metadata": {},
   "outputs": [
    {
     "data": {
      "text/html": [
       "<div>\n",
       "<style scoped>\n",
       "    .dataframe tbody tr th:only-of-type {\n",
       "        vertical-align: middle;\n",
       "    }\n",
       "\n",
       "    .dataframe tbody tr th {\n",
       "        vertical-align: top;\n",
       "    }\n",
       "\n",
       "    .dataframe thead th {\n",
       "        text-align: right;\n",
       "    }\n",
       "</style>\n",
       "<table border=\"1\" class=\"dataframe\">\n",
       "  <thead>\n",
       "    <tr style=\"text-align: right;\">\n",
       "      <th></th>\n",
       "      <th>AccessName</th>\n",
       "      <th>AccessFilePath</th>\n",
       "      <th>AccessFileSize</th>\n",
       "    </tr>\n",
       "  </thead>\n",
       "  <tbody>\n",
       "    <tr>\n",
       "      <th>11549</th>\n",
       "      <td>icon5773.jpg</td>\n",
       "      <td>Content/03823/image/icon5773.jpg</td>\n",
       "      <td>2217 Bytes</td>\n",
       "    </tr>\n",
       "    <tr>\n",
       "      <th>11550</th>\n",
       "      <td>icon5774.jpg</td>\n",
       "      <td>Content/03823/image/icon5774.jpg</td>\n",
       "      <td>2706 Bytes</td>\n",
       "    </tr>\n",
       "    <tr>\n",
       "      <th>11551</th>\n",
       "      <td>icon5775.jpg</td>\n",
       "      <td>Content/03823/image/icon5775.jpg</td>\n",
       "      <td>2648 Bytes</td>\n",
       "    </tr>\n",
       "    <tr>\n",
       "      <th>11552</th>\n",
       "      <td>icon5776.jpg</td>\n",
       "      <td>Content/03823/image/icon5776.jpg</td>\n",
       "      <td>2895 Bytes</td>\n",
       "    </tr>\n",
       "    <tr>\n",
       "      <th>11553</th>\n",
       "      <td>icon5777.jpg</td>\n",
       "      <td>Content/03823/image/icon5777.jpg</td>\n",
       "      <td>3057 Bytes</td>\n",
       "    </tr>\n",
       "  </tbody>\n",
       "</table>\n",
       "</div>"
      ],
      "text/plain": [
       "         AccessName                    AccessFilePath AccessFileSize\n",
       "11549  icon5773.jpg  Content/03823/image/icon5773.jpg     2217 Bytes\n",
       "11550  icon5774.jpg  Content/03823/image/icon5774.jpg     2706 Bytes\n",
       "11551  icon5775.jpg  Content/03823/image/icon5775.jpg     2648 Bytes\n",
       "11552  icon5776.jpg  Content/03823/image/icon5776.jpg     2895 Bytes\n",
       "11553  icon5777.jpg  Content/03823/image/icon5777.jpg     3057 Bytes"
      ]
     },
     "execution_count": 88,
     "metadata": {},
     "output_type": "execute_result"
    }
   ],
   "source": [
    "# Use the tail method to see the last n rows of a column\n",
    "accfiles.tail()"
   ]
  },
  {
   "cell_type": "markdown",
   "metadata": {},
   "source": [
    "Use shape to check the number of rows in the metadata vs. accfiles dataframes"
   ]
  },
  {
   "cell_type": "code",
   "execution_count": 89,
   "metadata": {},
   "outputs": [
    {
     "data": {
      "text/plain": [
       "(5777, 11)"
      ]
     },
     "execution_count": 89,
     "metadata": {},
     "output_type": "execute_result"
    }
   ],
   "source": [
    "# output row and column count for metadata and accfiles dataframes \n",
    "\n",
    "metadata.shape"
   ]
  },
  {
   "cell_type": "code",
   "execution_count": 90,
   "metadata": {},
   "outputs": [
    {
     "data": {
      "text/plain": [
       "(11554, 3)"
      ]
     },
     "execution_count": 90,
     "metadata": {},
     "output_type": "execute_result"
    }
   ],
   "source": [
    "# output row and column count for metadata and accfiles dataframes \n",
    "\n",
    "accfiles.shape"
   ]
  },
  {
   "cell_type": "markdown",
   "metadata": {},
   "source": [
    "For checking the number of additional files, you might try string count method:   \n",
    "\n",
    "[pandas.Series.str.count](https://pandas.pydata.org/pandas-docs/stable/reference/api/pandas.Series.str.count.html)\n"
   ]
  },
  {
   "cell_type": "code",
   "execution_count": 91,
   "metadata": {},
   "outputs": [
    {
     "data": {
      "text/plain": [
       "5777"
      ]
     },
     "execution_count": 91,
     "metadata": {},
     "output_type": "execute_result"
    }
   ],
   "source": [
    "# Use python string method to count instances of 'icon'\n",
    "\n",
    "accfiles['AccessName'].str.count(\"icon\").sum()"
   ]
  },
  {
   "cell_type": "markdown",
   "metadata": {},
   "source": [
    "If you wanted to include the extra rows from accfiles in a merged dataframe, there are a few options. \n",
    "\n",
    "The simplest would be to use a left merge but reverse the order. This is demonstrated below - note that left merge preserves the order of the keys from the left frame, so the key order is different when left and right are reversed. \n",
    "\n",
    "Another option is to use a different merge type. An outer merge uses the union of keys from both frames. Try an outer merge as well and compare the result. "
   ]
  },
  {
   "cell_type": "code",
   "execution_count": 92,
   "metadata": {},
   "outputs": [
    {
     "name": "stdout",
     "output_type": "stream",
     "text": [
      "<class 'pandas.core.frame.DataFrame'>\n",
      "Int64Index: 11554 entries, 0 to 11553\n",
      "Data columns (total 13 columns):\n",
      "AccessName                  11554 non-null object\n",
      "AccessFilePath              11554 non-null object\n",
      "AccessFileSize              11554 non-null object\n",
      "Collection in Repository    5777 non-null object\n",
      "Collection Number           5777 non-null object\n",
      "Location in Collection      5777 non-null object\n",
      "Object                      5777 non-null object\n",
      "Container Type              5777 non-null object\n",
      "filename                    5777 non-null object\n",
      "Usage Rights                5777 non-null object\n",
      "Date created                5777 non-null object\n",
      "Date modified               5777 non-null object\n",
      "Object number               5777 non-null float64\n",
      "dtypes: float64(1), object(12)\n",
      "memory usage: 1.2+ MB\n"
     ]
    }
   ],
   "source": [
    "# Reverse order of left merge - adds metadata dataframe to access files data\n",
    "\n",
    "accleft = pd.merge(accfiles, metadata, on='AccessName', how='left')\n",
    "\n",
    "# and view info for the merged dataframe\n",
    "\n",
    "accleft.info()"
   ]
  },
  {
   "cell_type": "code",
   "execution_count": 93,
   "metadata": {},
   "outputs": [
    {
     "name": "stdout",
     "output_type": "stream",
     "text": [
      "<class 'pandas.core.frame.DataFrame'>\n",
      "Int64Index: 11554 entries, 0 to 11553\n",
      "Data columns (total 13 columns):\n",
      "Collection in Repository    5777 non-null object\n",
      "Collection Number           5777 non-null object\n",
      "Location in Collection      5777 non-null object\n",
      "Object                      5777 non-null object\n",
      "Container Type              5777 non-null object\n",
      "filename                    5777 non-null object\n",
      "Usage Rights                5777 non-null object\n",
      "Date created                5777 non-null object\n",
      "Date modified               5777 non-null object\n",
      "Object number               5777 non-null float64\n",
      "AccessName                  11554 non-null object\n",
      "AccessFilePath              11554 non-null object\n",
      "AccessFileSize              11554 non-null object\n",
      "dtypes: float64(1), object(12)\n",
      "memory usage: 1.2+ MB\n"
     ]
    }
   ],
   "source": [
    "# Use outer merge \n",
    "\n",
    "outercombine = pd.merge(metadata, accfiles, on='AccessName', how='outer')\n",
    "\n",
    "outercombine.info()"
   ]
  },
  {
   "cell_type": "markdown",
   "metadata": {},
   "source": [
    "#### Use Merge indicator to track source\n",
    "\n",
    "If using an outer merge, you can set parameter `indicator=True` to show which source data contained the merge field value. "
   ]
  },
  {
   "cell_type": "code",
   "execution_count": 94,
   "metadata": {
    "scrolled": true
   },
   "outputs": [
    {
     "name": "stdout",
     "output_type": "stream",
     "text": [
      "<class 'pandas.core.frame.DataFrame'>\n",
      "Int64Index: 11554 entries, 0 to 11553\n",
      "Data columns (total 14 columns):\n",
      "Collection in Repository    5777 non-null object\n",
      "Collection Number           5777 non-null object\n",
      "Location in Collection      5777 non-null object\n",
      "Object                      5777 non-null object\n",
      "Container Type              5777 non-null object\n",
      "filename                    5777 non-null object\n",
      "Usage Rights                5777 non-null object\n",
      "Date created                5777 non-null object\n",
      "Date modified               5777 non-null object\n",
      "Object number               5777 non-null float64\n",
      "AccessName                  11554 non-null object\n",
      "AccessFilePath              11554 non-null object\n",
      "AccessFileSize              11554 non-null object\n",
      "_merge                      11554 non-null category\n",
      "dtypes: category(1), float64(1), object(12)\n",
      "memory usage: 1.2+ MB\n"
     ]
    }
   ],
   "source": [
    "# Use outer merge with merge indicator\n",
    "\n",
    "outercombine = pd.merge(metadata, accfiles, on='AccessName', how='outer', indicator=True)\n",
    "\n",
    "outercombine.info()"
   ]
  },
  {
   "cell_type": "code",
   "execution_count": 95,
   "metadata": {},
   "outputs": [
    {
     "data": {
      "text/html": [
       "<div>\n",
       "<style scoped>\n",
       "    .dataframe tbody tr th:only-of-type {\n",
       "        vertical-align: middle;\n",
       "    }\n",
       "\n",
       "    .dataframe tbody tr th {\n",
       "        vertical-align: top;\n",
       "    }\n",
       "\n",
       "    .dataframe thead th {\n",
       "        text-align: right;\n",
       "    }\n",
       "</style>\n",
       "<table border=\"1\" class=\"dataframe\">\n",
       "  <thead>\n",
       "    <tr style=\"text-align: right;\">\n",
       "      <th></th>\n",
       "      <th>AccessName</th>\n",
       "      <th>_merge</th>\n",
       "    </tr>\n",
       "  </thead>\n",
       "  <tbody>\n",
       "    <tr>\n",
       "      <th>11549</th>\n",
       "      <td>icon5773.jpg</td>\n",
       "      <td>right_only</td>\n",
       "    </tr>\n",
       "    <tr>\n",
       "      <th>11550</th>\n",
       "      <td>icon5774.jpg</td>\n",
       "      <td>right_only</td>\n",
       "    </tr>\n",
       "    <tr>\n",
       "      <th>11551</th>\n",
       "      <td>icon5775.jpg</td>\n",
       "      <td>right_only</td>\n",
       "    </tr>\n",
       "    <tr>\n",
       "      <th>11552</th>\n",
       "      <td>icon5776.jpg</td>\n",
       "      <td>right_only</td>\n",
       "    </tr>\n",
       "    <tr>\n",
       "      <th>11553</th>\n",
       "      <td>icon5777.jpg</td>\n",
       "      <td>right_only</td>\n",
       "    </tr>\n",
       "  </tbody>\n",
       "</table>\n",
       "</div>"
      ],
      "text/plain": [
       "         AccessName      _merge\n",
       "11549  icon5773.jpg  right_only\n",
       "11550  icon5774.jpg  right_only\n",
       "11551  icon5775.jpg  right_only\n",
       "11552  icon5776.jpg  right_only\n",
       "11553  icon5777.jpg  right_only"
      ]
     },
     "execution_count": 95,
     "metadata": {},
     "output_type": "execute_result"
    }
   ],
   "source": [
    "outercombine.loc[:,['AccessName', '_merge']].tail()"
   ]
  },
  {
   "cell_type": "code",
   "execution_count": null,
   "metadata": {},
   "outputs": [],
   "source": []
  },
  {
   "cell_type": "code",
   "execution_count": null,
   "metadata": {},
   "outputs": [],
   "source": []
  },
  {
   "cell_type": "markdown",
   "metadata": {},
   "source": [
    "## Bonus Example: Datatypes and Working with Dates<a name=\"md4\"></a>"
   ]
  },
  {
   "cell_type": "markdown",
   "metadata": {},
   "source": [
    "#### Use 'to_datetime' to convert datatype in Dates column\n",
    "\n",
    "In this example, we will go back to our rev dataframe and examine the datatype for the Dates field.  \n",
    "\n",
    "Notice the format of the values in the 'Date' column. We can also see in the info() output that the datatype for 'Date' is currently 'object'. Right now python is viewing these dates as just strings, which limits what we can do with them. \n",
    "\n",
    "We can create a new column in the dataframe, using the `to_datetime` method to convert the 'Date' values to datatype 'datetime', which then has a lot of capabilities available to it. \n"
   ]
  },
  {
   "cell_type": "code",
   "execution_count": 96,
   "metadata": {},
   "outputs": [
    {
     "data": {
      "text/plain": [
       "0    27 November 2004\n",
       "1    27 November 2004\n",
       "2    10 December 2004\n",
       "3     5 December 2004\n",
       "4    27 November 2004\n",
       "Name: Date, dtype: object"
      ]
     },
     "execution_count": 96,
     "metadata": {},
     "output_type": "execute_result"
    }
   ],
   "source": [
    "# check first n values in Date series\n",
    "\n",
    "rev.Date.head()"
   ]
  },
  {
   "cell_type": "code",
   "execution_count": 97,
   "metadata": {},
   "outputs": [
    {
     "name": "stdout",
     "output_type": "stream",
     "text": [
      "<class 'pandas.core.frame.DataFrame'>\n",
      "RangeIndex: 538 entries, 0 to 537\n",
      "Data columns (total 7 columns):\n",
      "Title                 505 non-null object\n",
      "Subject Name          15 non-null object\n",
      "Subject Geographic    538 non-null object\n",
      "Subject Topical       1 non-null object\n",
      "Date                  538 non-null object\n",
      "Usage Rights          538 non-null object\n",
      "colname               538 non-null object\n",
      "dtypes: object(7)\n",
      "memory usage: 29.5+ KB\n"
     ]
    }
   ],
   "source": [
    "# check datatypes in rev dataframe \n",
    "\n",
    "rev.info()"
   ]
  },
  {
   "cell_type": "code",
   "execution_count": 98,
   "metadata": {},
   "outputs": [
    {
     "data": {
      "text/plain": [
       "count                  538\n",
       "unique                  13\n",
       "top       10 December 2004\n",
       "freq                   196\n",
       "Name: Date, dtype: object"
      ]
     },
     "execution_count": 98,
     "metadata": {},
     "output_type": "execute_result"
    }
   ],
   "source": [
    "# check the current datatype and values information for the `Date` column in the rev dataframe\n",
    "\n",
    "rev.Date.describe()"
   ]
  },
  {
   "cell_type": "code",
   "execution_count": 99,
   "metadata": {},
   "outputs": [
    {
     "data": {
      "text/plain": [
       "0   2004-11-27\n",
       "1   2004-11-27\n",
       "2   2004-12-10\n",
       "3   2004-12-05\n",
       "4   2004-11-27\n",
       "Name: datesformat, dtype: datetime64[ns]"
      ]
     },
     "execution_count": 99,
     "metadata": {},
     "output_type": "execute_result"
    }
   ],
   "source": [
    "# Create a new column 'datesformat', with the values from the Date column \n",
    "# Use to_datetime to convert the 'Date' values to the datetime datatype\n",
    "\n",
    "rev['datesformat']=pd.to_datetime(rev['Date'])\n",
    "\n",
    "rev.datesformat.head()"
   ]
  },
  {
   "cell_type": "code",
   "execution_count": 100,
   "metadata": {},
   "outputs": [
    {
     "data": {
      "text/plain": [
       "count                     538\n",
       "unique                     13\n",
       "top       2004-12-10 00:00:00\n",
       "freq                      196\n",
       "first     2004-11-27 00:00:00\n",
       "last      2004-12-11 00:00:00\n",
       "Name: datesformat, dtype: object"
      ]
     },
     "execution_count": 100,
     "metadata": {},
     "output_type": "execute_result"
    }
   ],
   "source": [
    "# check the current datatype and values information for the new `datesformat` column in the rev dataframe\n",
    "\n",
    "rev.datesformat.describe(datetime_is_numeric=True)\n"
   ]
  },
  {
   "cell_type": "markdown",
   "metadata": {},
   "source": [
    "#### Inspect the dataframe with new column added\n",
    "\n",
    "Note that the new column will be added at the end of the dataframe. \n"
   ]
  },
  {
   "cell_type": "code",
   "execution_count": 101,
   "metadata": {},
   "outputs": [
    {
     "name": "stdout",
     "output_type": "stream",
     "text": [
      "<class 'pandas.core.frame.DataFrame'>\n",
      "RangeIndex: 538 entries, 0 to 537\n",
      "Data columns (total 8 columns):\n",
      "Title                 505 non-null object\n",
      "Subject Name          15 non-null object\n",
      "Subject Geographic    538 non-null object\n",
      "Subject Topical       1 non-null object\n",
      "Date                  538 non-null object\n",
      "Usage Rights          538 non-null object\n",
      "colname               538 non-null object\n",
      "datesformat           538 non-null datetime64[ns]\n",
      "dtypes: datetime64[ns](1), object(7)\n",
      "memory usage: 33.7+ KB\n"
     ]
    }
   ],
   "source": [
    "# check the columns and dtypes in the rev dataframe\n",
    "\n",
    "rev.info()"
   ]
  },
  {
   "cell_type": "markdown",
   "metadata": {},
   "source": [
    "## Resources <a name=\"res\"></a>\n"
   ]
  },
  {
   "cell_type": "markdown",
   "metadata": {},
   "source": [
    "### Installing Python and data science libraries\n",
    "\n",
    "Anaconda - package and environment manager for Python\n",
    "https://docs.anaconda.com/anaconda/install/\n",
    "\n",
    "Datacamp tutorials on Anaconda \n",
    "* [Installing Anaconda on Windows](https://www.datacamp.com/community/tutorials/installing-anaconda-windows) \n",
    "* [Intsalling Anaconda on Mac OS X](https://www.datacamp.com/community/tutorials/installing-anaconda-mac-os-x)\n",
    "\n",
    "Python.org Guide: [Installing packages using pip and virtual environments](https://packaging.python.org/guides/installing-using-pip-and-virtual-environments/)\n",
    "* how to manually create/manage Python environments if not using Anaconda "
   ]
  },
  {
   "cell_type": "markdown",
   "metadata": {},
   "source": [
    "### Getting Started with pandas: documentation and tutorials \n",
    "\n",
    "Pandas official documentation - User Guide   \n",
    "https://pandas.pydata.org/pandas-docs/stable/user_guide/index.html   \n",
    "\n",
    "Dataquest pandas tutorial   \n",
    "https://www.dataquest.io/blog/pandas-python-tutorial/"
   ]
  },
  {
   "cell_type": "markdown",
   "metadata": {},
   "source": [
    "### Dataschool.io - excellent open education site with tons of linked resources\n",
    "Python pandas Q&A video series - (tutorials on you tube) \n",
    "https://github.com/justmarkham/pandas-videos\n",
    "\n",
    "pandas tips and tricks (daily series)\n",
    "https://www.dataschool.io/python-pandas-tips-and-tricks/\n",
    "\n",
    "List of best pandas resources \n",
    "https://www.dataschool.io/best-python-pandas-resources/"
   ]
  },
  {
   "cell_type": "markdown",
   "metadata": {},
   "source": [
    "### Specific topics and tutorials \n",
    "read_csv tutorial   \n",
    "https://www.datacamp.com/community/tutorials/pandas-read-csv\n",
    "\n",
    "Data cleaning tutorial   \n",
    "https://www.dataquest.io/blog/data-cleaning-with-python/\n",
    "\n",
    "Using pandas with text data   \n",
    "https://pandas.pydata.org/pandas-docs/stable/user_guide/text.html\n",
    "\n",
    "Pandas pivot table tutorial   \n",
    "https://pbpython.com/pandas-pivot-table-explained.html\n",
    "\n",
    "Data Types and Formats   \n",
    "https://datacarpentry.org/python-ecology-lesson/04-data-types-and-format/\n",
    "\n",
    "Jupyter Notebook about pandas to SQL    \n",
    "https://nbviewer.jupyter.org/github/gjreda/pydata2014nyc/blob/master/demo.ipynb"
   ]
  },
  {
   "cell_type": "markdown",
   "metadata": {},
   "source": [
    "### Python/pandas projects in a libraries/archives context\n",
    "\n",
    "\"Analyzing EZproxy SPU Logs Using Python Data Analysis Tools\"   \n",
    "https://journal.code4lib.org/articles/13918\n",
    "\n",
    "\"Leveraging Python to improve ebook metadata selection, ingest, and management\"   \n",
    "https://journal.code4lib.org/articles/12828\n",
    "\n",
    "Metadata Analytics, Visualization, and Optimization: Experiments in statistical analysis of the Digital Public Library of America (DPLA)   \n",
    "https://journal.code4lib.org/articles/11752\n",
    "\n",
    "\"Python, Google Sheets, and the Thesaurus for Graphic Materials for Efficient Metadata Project Workflows\"   \n",
    "https://journal.code4lib.org/articles/12182\n",
    "* UVa project scripts: (https://github.com/jtbmadva/bicentennial-project-scripts)\n",
    "\n",
    "\"Of Python and Pandas: Using Programming to Improve Discovery and Access\"   \n",
    "https://saaers.wordpress.com/2018/10/09/of-python-and-pandas-using-programming-to-improve-discovery-and-access/\n"
   ]
  }
 ],
 "metadata": {
  "kernelspec": {
   "display_name": "Python 3",
   "language": "python",
   "name": "python3"
  },
  "language_info": {
   "codemirror_mode": {
    "name": "ipython",
    "version": 3
   },
   "file_extension": ".py",
   "mimetype": "text/x-python",
   "name": "python",
   "nbconvert_exporter": "python",
   "pygments_lexer": "ipython3",
   "version": "3.7.3"
  }
 },
 "nbformat": 4,
 "nbformat_minor": 2
}
